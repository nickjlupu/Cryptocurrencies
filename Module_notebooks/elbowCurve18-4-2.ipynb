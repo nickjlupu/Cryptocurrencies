{
 "cells": [
  {
   "cell_type": "code",
   "execution_count": 12,
   "metadata": {},
   "outputs": [],
   "source": [
    "# Initial imports\n",
    "import pandas as pd\n",
    "from sklearn.cluster import KMeans\n",
    "import plotly.express as px\n",
    "import hvplot.pandas"
   ]
  },
  {
   "cell_type": "code",
   "execution_count": 13,
   "metadata": {},
   "outputs": [
    {
     "data": {
      "text/html": [
       "<div>\n",
       "<style scoped>\n",
       "    .dataframe tbody tr th:only-of-type {\n",
       "        vertical-align: middle;\n",
       "    }\n",
       "\n",
       "    .dataframe tbody tr th {\n",
       "        vertical-align: top;\n",
       "    }\n",
       "\n",
       "    .dataframe thead th {\n",
       "        text-align: right;\n",
       "    }\n",
       "</style>\n",
       "<table border=\"1\" class=\"dataframe\">\n",
       "  <thead>\n",
       "    <tr style=\"text-align: right;\">\n",
       "      <th></th>\n",
       "      <th>card_member</th>\n",
       "      <th>age</th>\n",
       "      <th>annual_income</th>\n",
       "      <th>spending_score</th>\n",
       "    </tr>\n",
       "  </thead>\n",
       "  <tbody>\n",
       "    <tr>\n",
       "      <th>0</th>\n",
       "      <td>1</td>\n",
       "      <td>19.0</td>\n",
       "      <td>15.0</td>\n",
       "      <td>39.0</td>\n",
       "    </tr>\n",
       "    <tr>\n",
       "      <th>1</th>\n",
       "      <td>1</td>\n",
       "      <td>21.0</td>\n",
       "      <td>15.0</td>\n",
       "      <td>81.0</td>\n",
       "    </tr>\n",
       "    <tr>\n",
       "      <th>2</th>\n",
       "      <td>0</td>\n",
       "      <td>20.0</td>\n",
       "      <td>16.0</td>\n",
       "      <td>6.0</td>\n",
       "    </tr>\n",
       "    <tr>\n",
       "      <th>3</th>\n",
       "      <td>0</td>\n",
       "      <td>23.0</td>\n",
       "      <td>16.0</td>\n",
       "      <td>77.0</td>\n",
       "    </tr>\n",
       "    <tr>\n",
       "      <th>4</th>\n",
       "      <td>0</td>\n",
       "      <td>31.0</td>\n",
       "      <td>17.0</td>\n",
       "      <td>40.0</td>\n",
       "    </tr>\n",
       "    <tr>\n",
       "      <th>5</th>\n",
       "      <td>0</td>\n",
       "      <td>22.0</td>\n",
       "      <td>17.0</td>\n",
       "      <td>76.0</td>\n",
       "    </tr>\n",
       "    <tr>\n",
       "      <th>6</th>\n",
       "      <td>0</td>\n",
       "      <td>35.0</td>\n",
       "      <td>18.0</td>\n",
       "      <td>6.0</td>\n",
       "    </tr>\n",
       "    <tr>\n",
       "      <th>7</th>\n",
       "      <td>0</td>\n",
       "      <td>23.0</td>\n",
       "      <td>18.0</td>\n",
       "      <td>94.0</td>\n",
       "    </tr>\n",
       "    <tr>\n",
       "      <th>8</th>\n",
       "      <td>1</td>\n",
       "      <td>64.0</td>\n",
       "      <td>19.0</td>\n",
       "      <td>3.0</td>\n",
       "    </tr>\n",
       "    <tr>\n",
       "      <th>9</th>\n",
       "      <td>0</td>\n",
       "      <td>30.0</td>\n",
       "      <td>19.0</td>\n",
       "      <td>72.0</td>\n",
       "    </tr>\n",
       "  </tbody>\n",
       "</table>\n",
       "</div>"
      ],
      "text/plain": [
       "   card_member   age  annual_income  spending_score\n",
       "0            1  19.0           15.0            39.0\n",
       "1            1  21.0           15.0            81.0\n",
       "2            0  20.0           16.0             6.0\n",
       "3            0  23.0           16.0            77.0\n",
       "4            0  31.0           17.0            40.0\n",
       "5            0  22.0           17.0            76.0\n",
       "6            0  35.0           18.0             6.0\n",
       "7            0  23.0           18.0            94.0\n",
       "8            1  64.0           19.0             3.0\n",
       "9            0  30.0           19.0            72.0"
      ]
     },
     "execution_count": 13,
     "metadata": {},
     "output_type": "execute_result"
    }
   ],
   "source": [
    "# Load data\n",
    "file_path = \"../Resources/shopping_data_cleaned.csv\"\n",
    "df_shopping = pd.read_csv(file_path)\n",
    "df_shopping.head(10)"
   ]
  },
  {
   "cell_type": "code",
   "execution_count": 14,
   "metadata": {},
   "outputs": [],
   "source": [
    "inertia = []\n",
    "k = list(range(1, 11))\n",
    "# Calculate the inertia for the range of K values\n",
    "for i in k:\n",
    "   km = KMeans(n_clusters=i, random_state=0)\n",
    "   km.fit(df_shopping)\n",
    "   inertia.append(km.inertia_)"
   ]
  },
  {
   "cell_type": "code",
   "execution_count": 15,
   "metadata": {},
   "outputs": [
    {
     "data": {},
     "metadata": {},
     "output_type": "display_data"
    },
    {
     "data": {
      "application/vnd.holoviews_exec.v0+json": "",
      "text/html": [
       "<div id='1908'>\n",
       "\n",
       "\n",
       "\n",
       "\n",
       "\n",
       "  <div class=\"bk-root\" id=\"f2f311f4-8c96-49cc-83c7-9a045ea4dbc1\" data-root-id=\"1908\"></div>\n",
       "</div>\n",
       "<script type=\"application/javascript\">(function(root) {\n",
       "  function embed_document(root) {\n",
       "  var docs_json = {\"ae2419c6-825c-423b-9445-db011e01f990\":{\"roots\":{\"references\":[{\"attributes\":{\"axis_label\":\"inertia\",\"bounds\":\"auto\",\"formatter\":{\"id\":\"1956\"},\"major_label_orientation\":\"horizontal\",\"ticker\":{\"id\":\"1927\"}},\"id\":\"1926\",\"type\":\"LinearAxis\"},{\"attributes\":{\"children\":[{\"id\":\"1909\"},{\"id\":\"1913\"},{\"id\":\"1972\"}],\"margin\":[0,0,0,0],\"name\":\"Row03679\",\"tags\":[\"embedded\"]},\"id\":\"1908\",\"type\":\"Row\"},{\"attributes\":{},\"id\":\"1927\",\"type\":\"BasicTicker\"},{\"attributes\":{\"axis\":{\"id\":\"1926\"},\"dimension\":1,\"grid_line_color\":null,\"ticker\":null},\"id\":\"1929\",\"type\":\"Grid\"},{\"attributes\":{\"active_drag\":\"auto\",\"active_inspect\":\"auto\",\"active_multi\":null,\"active_scroll\":\"auto\",\"active_tap\":\"auto\",\"tools\":[{\"id\":\"1912\"},{\"id\":\"1930\"},{\"id\":\"1931\"},{\"id\":\"1932\"},{\"id\":\"1933\"},{\"id\":\"1934\"}]},\"id\":\"1936\",\"type\":\"Toolbar\"},{\"attributes\":{\"end\":10.0,\"reset_end\":10.0,\"reset_start\":1.0,\"start\":1.0,\"tags\":[[[\"k\",\"k\",null]]]},\"id\":\"1910\",\"type\":\"Range1d\"},{\"attributes\":{\"margin\":[5,5,5,5],\"name\":\"HSpacer03683\",\"sizing_mode\":\"stretch_width\"},\"id\":\"1909\",\"type\":\"Spacer\"},{\"attributes\":{\"source\":{\"id\":\"1943\"}},\"id\":\"1950\",\"type\":\"CDSView\"},{\"attributes\":{},\"id\":\"1964\",\"type\":\"UnionRenderers\"},{\"attributes\":{\"data\":{\"inertia\":{\"__ndarray__\":\"2KNwPfjZEkFz+SWKy/wJQT1tJ738gAFB4Z8zzup9+UC1XbzYeWjyQOBbDIaUfexAeam3gJb36EAjpjN7LkPnQLXkPfkl8+NA/JRP+Txi4kA=\",\"dtype\":\"float64\",\"order\":\"little\",\"shape\":[10]},\"k\":[1,2,3,4,5,6,7,8,9,10]},\"selected\":{\"id\":\"1944\"},\"selection_policy\":{\"id\":\"1964\"}},\"id\":\"1943\",\"type\":\"ColumnDataSource\"},{\"attributes\":{\"end\":335983.2754566545,\"reset_end\":335983.2754566545,\"reset_start\":10528.689976800993,\"start\":10528.689976800993,\"tags\":[[[\"inertia\",\"inertia\",null]]]},\"id\":\"1911\",\"type\":\"Range1d\"},{\"attributes\":{},\"id\":\"1944\",\"type\":\"Selection\"},{\"attributes\":{\"bottom_units\":\"screen\",\"fill_alpha\":0.5,\"fill_color\":\"lightgrey\",\"left_units\":\"screen\",\"level\":\"overlay\",\"line_alpha\":1.0,\"line_color\":\"black\",\"line_dash\":[4,4],\"line_width\":2,\"right_units\":\"screen\",\"top_units\":\"screen\"},\"id\":\"1935\",\"type\":\"BoxAnnotation\"},{\"attributes\":{\"axis_label\":\"k\",\"bounds\":\"auto\",\"formatter\":{\"id\":\"1952\"},\"major_label_orientation\":\"horizontal\",\"ticker\":{\"id\":\"1951\"}},\"id\":\"1922\",\"type\":\"LinearAxis\"},{\"attributes\":{\"line_color\":\"#1f77b3\",\"line_width\":2,\"x\":{\"field\":\"k\"},\"y\":{\"field\":\"inertia\"}},\"id\":\"1946\",\"type\":\"Line\"},{\"attributes\":{},\"id\":\"1956\",\"type\":\"BasicTickFormatter\"},{\"attributes\":{},\"id\":\"1930\",\"type\":\"SaveTool\"},{\"attributes\":{},\"id\":\"1932\",\"type\":\"WheelZoomTool\"},{\"attributes\":{\"ticks\":[1,2,3,4,5,6,7,8,9,10]},\"id\":\"1951\",\"type\":\"FixedTicker\"},{\"attributes\":{\"margin\":[5,5,5,5],\"name\":\"HSpacer03684\",\"sizing_mode\":\"stretch_width\"},\"id\":\"1972\",\"type\":\"Spacer\"},{\"attributes\":{},\"id\":\"1931\",\"type\":\"PanTool\"},{\"attributes\":{\"callback\":null,\"renderers\":[{\"id\":\"1949\"}],\"tags\":[\"hv_created\"],\"tooltips\":[[\"k\",\"@{k}\"],[\"inertia\",\"@{inertia}\"]]},\"id\":\"1912\",\"type\":\"HoverTool\"},{\"attributes\":{\"overlay\":{\"id\":\"1935\"}},\"id\":\"1933\",\"type\":\"BoxZoomTool\"},{\"attributes\":{\"line_alpha\":0.1,\"line_color\":\"#1f77b3\",\"line_width\":2,\"x\":{\"field\":\"k\"},\"y\":{\"field\":\"inertia\"}},\"id\":\"1947\",\"type\":\"Line\"},{\"attributes\":{\"align\":null,\"below\":[{\"id\":\"1922\"}],\"center\":[{\"id\":\"1925\"},{\"id\":\"1929\"}],\"left\":[{\"id\":\"1926\"}],\"margin\":null,\"min_border_bottom\":10,\"min_border_left\":10,\"min_border_right\":10,\"min_border_top\":10,\"plot_height\":300,\"plot_width\":700,\"renderers\":[{\"id\":\"1949\"}],\"sizing_mode\":\"fixed\",\"title\":{\"id\":\"1914\"},\"toolbar\":{\"id\":\"1936\"},\"x_range\":{\"id\":\"1910\"},\"x_scale\":{\"id\":\"1918\"},\"y_range\":{\"id\":\"1911\"},\"y_scale\":{\"id\":\"1920\"}},\"id\":\"1913\",\"subtype\":\"Figure\",\"type\":\"Plot\"},{\"attributes\":{},\"id\":\"1918\",\"type\":\"LinearScale\"},{\"attributes\":{\"data_source\":{\"id\":\"1943\"},\"glyph\":{\"id\":\"1946\"},\"hover_glyph\":null,\"muted_glyph\":{\"id\":\"1948\"},\"nonselection_glyph\":{\"id\":\"1947\"},\"selection_glyph\":null,\"view\":{\"id\":\"1950\"}},\"id\":\"1949\",\"type\":\"GlyphRenderer\"},{\"attributes\":{},\"id\":\"1952\",\"type\":\"BasicTickFormatter\"},{\"attributes\":{\"text\":\"Elbow Curve\",\"text_color\":{\"value\":\"black\"},\"text_font_size\":{\"value\":\"12pt\"}},\"id\":\"1914\",\"type\":\"Title\"},{\"attributes\":{},\"id\":\"1934\",\"type\":\"ResetTool\"},{\"attributes\":{\"axis\":{\"id\":\"1922\"},\"grid_line_color\":null,\"ticker\":null},\"id\":\"1925\",\"type\":\"Grid\"},{\"attributes\":{},\"id\":\"1920\",\"type\":\"LinearScale\"},{\"attributes\":{\"line_alpha\":0.2,\"line_color\":\"#1f77b3\",\"line_width\":2,\"x\":{\"field\":\"k\"},\"y\":{\"field\":\"inertia\"}},\"id\":\"1948\",\"type\":\"Line\"}],\"root_ids\":[\"1908\"]},\"title\":\"Bokeh Application\",\"version\":\"2.1.0\"}};\n",
       "  var render_items = [{\"docid\":\"ae2419c6-825c-423b-9445-db011e01f990\",\"root_ids\":[\"1908\"],\"roots\":{\"1908\":\"f2f311f4-8c96-49cc-83c7-9a045ea4dbc1\"}}];\n",
       "  root.Bokeh.embed.embed_items_notebook(docs_json, render_items);\n",
       "  }\n",
       "if (root.Bokeh !== undefined) {\n",
       "    embed_document(root);\n",
       "  } else {\n",
       "    var attempts = 0;\n",
       "    var timer = setInterval(function(root) {\n",
       "      if (root.Bokeh !== undefined) {\n",
       "        clearInterval(timer);\n",
       "        embed_document(root);\n",
       "      } else if (document.readyState == \"complete\") {\n",
       "        attempts++;\n",
       "        if (attempts > 100) {\n",
       "          clearInterval(timer);\n",
       "          console.log(\"Bokeh: ERROR: Unable to run BokehJS code because BokehJS library is missing\");\n",
       "        }\n",
       "      }\n",
       "    }, 10, root)\n",
       "  }\n",
       "})(window);</script>"
      ],
      "text/plain": [
       ":Curve   [k]   (inertia)"
      ]
     },
     "execution_count": 15,
     "metadata": {
      "application/vnd.holoviews_exec.v0+json": {
       "id": "1908"
      }
     },
     "output_type": "execute_result"
    }
   ],
   "source": [
    "# create elbow curve\n",
    "elbow_data = {\"k\": k, \"inertia\": inertia}\n",
    "df_elbow = pd.DataFrame(elbow_data)\n",
    "df_elbow.hvplot.line(x=\"k\", y=\"inertia\", xticks=k, title=\"Elbow Curve\")"
   ]
  },
  {
   "cell_type": "code",
   "execution_count": 16,
   "metadata": {},
   "outputs": [],
   "source": [
    "def get_clusters(k, data):   \n",
    "    # Create a copy of the DataFrame   \n",
    "    data = data.copy()       \n",
    "    # Initialize the K-Means model   \n",
    "    model = KMeans(n_clusters=k, random_state=0)   \n",
    "    # Fit the model   \n",
    "    model.fit(data)   \n",
    "    # Predict clusters   \n",
    "    predictions = model.predict(data)   \n",
    "    # Create return DataFrame with predicted clusters   \n",
    "    data[\"class\"] = model.labels_   \n",
    "    return data\n"
   ]
  },
  {
   "cell_type": "code",
   "execution_count": 17,
   "metadata": {},
   "outputs": [
    {
     "data": {
      "text/html": [
       "<div>\n",
       "<style scoped>\n",
       "    .dataframe tbody tr th:only-of-type {\n",
       "        vertical-align: middle;\n",
       "    }\n",
       "\n",
       "    .dataframe tbody tr th {\n",
       "        vertical-align: top;\n",
       "    }\n",
       "\n",
       "    .dataframe thead th {\n",
       "        text-align: right;\n",
       "    }\n",
       "</style>\n",
       "<table border=\"1\" class=\"dataframe\">\n",
       "  <thead>\n",
       "    <tr style=\"text-align: right;\">\n",
       "      <th></th>\n",
       "      <th>card_member</th>\n",
       "      <th>age</th>\n",
       "      <th>annual_income</th>\n",
       "      <th>spending_score</th>\n",
       "      <th>class</th>\n",
       "    </tr>\n",
       "  </thead>\n",
       "  <tbody>\n",
       "    <tr>\n",
       "      <th>0</th>\n",
       "      <td>1</td>\n",
       "      <td>19.0</td>\n",
       "      <td>15.0</td>\n",
       "      <td>39.0</td>\n",
       "      <td>0</td>\n",
       "    </tr>\n",
       "    <tr>\n",
       "      <th>1</th>\n",
       "      <td>1</td>\n",
       "      <td>21.0</td>\n",
       "      <td>15.0</td>\n",
       "      <td>81.0</td>\n",
       "      <td>4</td>\n",
       "    </tr>\n",
       "    <tr>\n",
       "      <th>2</th>\n",
       "      <td>0</td>\n",
       "      <td>20.0</td>\n",
       "      <td>16.0</td>\n",
       "      <td>6.0</td>\n",
       "      <td>0</td>\n",
       "    </tr>\n",
       "    <tr>\n",
       "      <th>3</th>\n",
       "      <td>0</td>\n",
       "      <td>23.0</td>\n",
       "      <td>16.0</td>\n",
       "      <td>77.0</td>\n",
       "      <td>4</td>\n",
       "    </tr>\n",
       "    <tr>\n",
       "      <th>4</th>\n",
       "      <td>0</td>\n",
       "      <td>31.0</td>\n",
       "      <td>17.0</td>\n",
       "      <td>40.0</td>\n",
       "      <td>0</td>\n",
       "    </tr>\n",
       "  </tbody>\n",
       "</table>\n",
       "</div>"
      ],
      "text/plain": [
       "   card_member   age  annual_income  spending_score  class\n",
       "0            1  19.0           15.0            39.0      0\n",
       "1            1  21.0           15.0            81.0      4\n",
       "2            0  20.0           16.0             6.0      0\n",
       "3            0  23.0           16.0            77.0      4\n",
       "4            0  31.0           17.0            40.0      0"
      ]
     },
     "execution_count": 17,
     "metadata": {},
     "output_type": "execute_result"
    }
   ],
   "source": [
    "five_clusters = get_clusters(5, df_shopping)\n",
    "five_clusters.head()"
   ]
  },
  {
   "cell_type": "code",
   "execution_count": 18,
   "metadata": {},
   "outputs": [
    {
     "data": {
      "text/html": [
       "<div>\n",
       "<style scoped>\n",
       "    .dataframe tbody tr th:only-of-type {\n",
       "        vertical-align: middle;\n",
       "    }\n",
       "\n",
       "    .dataframe tbody tr th {\n",
       "        vertical-align: top;\n",
       "    }\n",
       "\n",
       "    .dataframe thead th {\n",
       "        text-align: right;\n",
       "    }\n",
       "</style>\n",
       "<table border=\"1\" class=\"dataframe\">\n",
       "  <thead>\n",
       "    <tr style=\"text-align: right;\">\n",
       "      <th></th>\n",
       "      <th>card_member</th>\n",
       "      <th>age</th>\n",
       "      <th>annual_income</th>\n",
       "      <th>spending_score</th>\n",
       "      <th>class</th>\n",
       "    </tr>\n",
       "  </thead>\n",
       "  <tbody>\n",
       "    <tr>\n",
       "      <th>0</th>\n",
       "      <td>1</td>\n",
       "      <td>19.0</td>\n",
       "      <td>15.0</td>\n",
       "      <td>39.0</td>\n",
       "      <td>5</td>\n",
       "    </tr>\n",
       "    <tr>\n",
       "      <th>1</th>\n",
       "      <td>1</td>\n",
       "      <td>21.0</td>\n",
       "      <td>15.0</td>\n",
       "      <td>81.0</td>\n",
       "      <td>4</td>\n",
       "    </tr>\n",
       "    <tr>\n",
       "      <th>2</th>\n",
       "      <td>0</td>\n",
       "      <td>20.0</td>\n",
       "      <td>16.0</td>\n",
       "      <td>6.0</td>\n",
       "      <td>5</td>\n",
       "    </tr>\n",
       "    <tr>\n",
       "      <th>3</th>\n",
       "      <td>0</td>\n",
       "      <td>23.0</td>\n",
       "      <td>16.0</td>\n",
       "      <td>77.0</td>\n",
       "      <td>4</td>\n",
       "    </tr>\n",
       "    <tr>\n",
       "      <th>4</th>\n",
       "      <td>0</td>\n",
       "      <td>31.0</td>\n",
       "      <td>17.0</td>\n",
       "      <td>40.0</td>\n",
       "      <td>5</td>\n",
       "    </tr>\n",
       "  </tbody>\n",
       "</table>\n",
       "</div>"
      ],
      "text/plain": [
       "   card_member   age  annual_income  spending_score  class\n",
       "0            1  19.0           15.0            39.0      5\n",
       "1            1  21.0           15.0            81.0      4\n",
       "2            0  20.0           16.0             6.0      5\n",
       "3            0  23.0           16.0            77.0      4\n",
       "4            0  31.0           17.0            40.0      5"
      ]
     },
     "execution_count": 18,
     "metadata": {},
     "output_type": "execute_result"
    }
   ],
   "source": [
    "six_clusters = get_clusters(6, df_shopping)\n",
    "six_clusters.head()"
   ]
  },
  {
   "cell_type": "code",
   "execution_count": 19,
   "metadata": {},
   "outputs": [
    {
     "data": {},
     "metadata": {},
     "output_type": "display_data"
    },
    {
     "data": {
      "application/vnd.holoviews_exec.v0+json": "",
      "text/html": [
       "<div id='2009'>\n",
       "\n",
       "\n",
       "\n",
       "\n",
       "\n",
       "  <div class=\"bk-root\" id=\"3a538fcf-4e26-4fe1-ae1c-cc1b71950ccd\" data-root-id=\"2009\"></div>\n",
       "</div>\n",
       "<script type=\"application/javascript\">(function(root) {\n",
       "  function embed_document(root) {\n",
       "  var docs_json = {\"6902829a-9f4c-48c0-a778-34f502a15e02\":{\"roots\":{\"references\":[{\"attributes\":{},\"id\":\"2035\",\"type\":\"SaveTool\"},{\"attributes\":{},\"id\":\"2108\",\"type\":\"UnionRenderers\"},{\"attributes\":{\"axis\":{\"id\":\"2031\"},\"dimension\":1,\"grid_line_color\":null,\"ticker\":null},\"id\":\"2034\",\"type\":\"Grid\"},{\"attributes\":{\"label\":{\"value\":\"3\"},\"renderers\":[{\"id\":\"2116\"}]},\"id\":\"2132\",\"type\":\"LegendItem\"},{\"attributes\":{},\"id\":\"2134\",\"type\":\"Selection\"},{\"attributes\":{},\"id\":\"2048\",\"type\":\"BasicTickFormatter\"},{\"attributes\":{\"fill_alpha\":{\"value\":0.1},\"fill_color\":{\"value\":\"#2ba02b\"},\"line_alpha\":{\"value\":0.1},\"line_color\":{\"value\":\"#2ba02b\"},\"size\":{\"units\":\"screen\",\"value\":5.477225575051661},\"x\":{\"field\":\"annual_income\"},\"y\":{\"field\":\"spending_score\"}},\"id\":\"2093\",\"type\":\"Scatter\"},{\"attributes\":{\"fill_color\":{\"value\":\"#d62628\"},\"line_color\":{\"value\":\"#d62628\"},\"size\":{\"units\":\"screen\",\"value\":5.477225575051661},\"x\":{\"field\":\"annual_income\"},\"y\":{\"field\":\"spending_score\"}},\"id\":\"2113\",\"type\":\"Scatter\"},{\"attributes\":{\"data_source\":{\"id\":\"2110\"},\"glyph\":{\"id\":\"2113\"},\"hover_glyph\":null,\"muted_glyph\":{\"id\":\"2115\"},\"nonselection_glyph\":{\"id\":\"2114\"},\"selection_glyph\":null,\"view\":{\"id\":\"2117\"}},\"id\":\"2116\",\"type\":\"GlyphRenderer\"},{\"attributes\":{\"data\":{\"annual_income\":{\"__ndarray__\":\"AAAAAAAALkAAAAAAAAAwQAAAAAAAADFAAAAAAAAAMkAAAAAAAAAzQAAAAAAAADNAAAAAAAAANEAAAAAAAAA0QAAAAAAAADVAAAAAAAAAN0AAAAAAAAA4QAAAAAAAADlAAAAAAAAAPEAAAAAAAAA8QAAAAAAAAD1AAAAAAAAAPkAAAAAAAIBAQAAAAAAAgEBAAAAAAAAAQUAAAAAAAIBCQAAAAAAAAENAAAAAAACAQ0AAAAAAAIBDQA==\",\"dtype\":\"float64\",\"order\":\"little\",\"shape\":[23]},\"class\":[0,0,0,0,0,0,0,0,0,0,0,0,0,0,0,0,0,0,0,0,0,0,0],\"spending_score\":{\"__ndarray__\":\"AAAAAACAQ0AAAAAAAAAYQAAAAAAAAERAAAAAAAAAGEAAAAAAAAAIQAAAAAAAACxAAAAAAAAALkAAAAAAAAAqQAAAAAAAgEFAAAAAAAAAPUAAAAAAAIBBQAAAAAAAABRAAAAAAAAALEAAAAAAAABAQAAAAAAAAD9AAAAAAAAAEEAAAAAAAAAQQAAAAAAAACxAAAAAAAAAMUAAAAAAAAA6QAAAAAAAgEFAAAAAAAAAQkAAAAAAAAA8QA==\",\"dtype\":\"float64\",\"order\":\"little\",\"shape\":[23]}},\"selected\":{\"id\":\"2053\"},\"selection_policy\":{\"id\":\"2067\"}},\"id\":\"2052\",\"type\":\"ColumnDataSource\"},{\"attributes\":{\"fill_alpha\":{\"value\":0.1},\"fill_color\":{\"value\":\"#1f77b3\"},\"line_alpha\":{\"value\":0.1},\"line_color\":{\"value\":\"#1f77b3\"},\"size\":{\"units\":\"screen\",\"value\":5.477225575051661},\"x\":{\"field\":\"annual_income\"},\"y\":{\"field\":\"spending_score\"}},\"id\":\"2056\",\"type\":\"Scatter\"},{\"attributes\":{\"label\":{\"value\":\"1\"},\"renderers\":[{\"id\":\"2076\"}]},\"id\":\"2088\",\"type\":\"LegendItem\"},{\"attributes\":{\"text\":\"\",\"text_color\":{\"value\":\"black\"},\"text_font_size\":{\"value\":\"12pt\"}},\"id\":\"2019\",\"type\":\"Title\"},{\"attributes\":{\"align\":null,\"below\":[{\"id\":\"2027\"}],\"center\":[{\"id\":\"2030\"},{\"id\":\"2034\"}],\"left\":[{\"id\":\"2031\"}],\"margin\":null,\"min_border_bottom\":10,\"min_border_left\":10,\"min_border_right\":10,\"min_border_top\":10,\"plot_height\":300,\"plot_width\":700,\"renderers\":[{\"id\":\"2058\"},{\"id\":\"2076\"},{\"id\":\"2095\"},{\"id\":\"2116\"},{\"id\":\"2139\"}],\"right\":[{\"id\":\"2068\"}],\"sizing_mode\":\"fixed\",\"title\":{\"id\":\"2019\"},\"toolbar\":{\"id\":\"2041\"},\"x_range\":{\"id\":\"2011\"},\"x_scale\":{\"id\":\"2023\"},\"y_range\":{\"id\":\"2012\"},\"y_scale\":{\"id\":\"2025\"}},\"id\":\"2018\",\"subtype\":\"Figure\",\"type\":\"Plot\"},{\"attributes\":{\"axis_label\":\"annual_income\",\"bounds\":\"auto\",\"formatter\":{\"id\":\"2048\"},\"major_label_orientation\":\"horizontal\",\"ticker\":{\"id\":\"2028\"}},\"id\":\"2027\",\"type\":\"LinearAxis\"},{\"attributes\":{\"label\":{\"value\":\"0\"},\"renderers\":[{\"id\":\"2058\"}]},\"id\":\"2069\",\"type\":\"LegendItem\"},{\"attributes\":{\"source\":{\"id\":\"2052\"}},\"id\":\"2059\",\"type\":\"CDSView\"},{\"attributes\":{\"data_source\":{\"id\":\"2089\"},\"glyph\":{\"id\":\"2092\"},\"hover_glyph\":null,\"muted_glyph\":{\"id\":\"2094\"},\"nonselection_glyph\":{\"id\":\"2093\"},\"selection_glyph\":null,\"view\":{\"id\":\"2096\"}},\"id\":\"2095\",\"type\":\"GlyphRenderer\"},{\"attributes\":{},\"id\":\"2050\",\"type\":\"BasicTickFormatter\"},{\"attributes\":{\"data_source\":{\"id\":\"2133\"},\"glyph\":{\"id\":\"2136\"},\"hover_glyph\":null,\"muted_glyph\":{\"id\":\"2138\"},\"nonselection_glyph\":{\"id\":\"2137\"},\"selection_glyph\":null,\"view\":{\"id\":\"2140\"}},\"id\":\"2139\",\"type\":\"GlyphRenderer\"},{\"attributes\":{},\"id\":\"2067\",\"type\":\"UnionRenderers\"},{\"attributes\":{},\"id\":\"2032\",\"type\":\"BasicTicker\"},{\"attributes\":{\"data\":{\"annual_income\":{\"__ndarray__\":\"AAAAAABAUUAAAAAAAIBRQAAAAAAAwFFAAAAAAADAUUAAAAAAAMBRQAAAAAAAAFJAAAAAAABAUkAAAAAAAEBSQAAAAAAAgFJAAAAAAADAUkAAAAAAAABTQAAAAAAAQFNAAAAAAABAU0AAAAAAAIBTQAAAAAAAgFNAAAAAAACAU0AAAAAAAIBTQAAAAAAAgFNAAAAAAACAU0AAAAAAAMBTQAAAAAAAQFRAAAAAAABAVUAAAAAAAIBVQAAAAAAAwFVAAAAAAADAVUAAAAAAAMBVQAAAAAAAAFZAAAAAAAAAVkAAAAAAAEBXQAAAAAAAQFhAAAAAAACAWEAAAAAAAMBYQAAAAAAAQFlAAAAAAADAWUAAAAAAAMBZQAAAAAAAQFxAAAAAAAAAXkAAAAAAAIBfQAAAAAAAIGFA\",\"dtype\":\"float64\",\"order\":\"little\",\"shape\":[39]},\"class\":[2,2,2,2,2,2,2,2,2,2,2,2,2,2,2,2,2,2,2,2,2,2,2,2,2,2,2,2,2,2,2,2,2,2,2,2,2,2,2],\"spending_score\":{\"__ndarray__\":\"AAAAAADAVkAAAAAAAEBTQAAAAAAAwFdAAAAAAADAUkAAAAAAAMBSQAAAAAAAwFFAAAAAAAAAVkAAAAAAAEBSQAAAAAAAAFJAAAAAAABAV0AAAAAAAMBVQAAAAAAAQFhAAAAAAACAUkAAAAAAAIBWQAAAAAAAAFZAAAAAAAAAU0AAAAAAAEBWQAAAAAAAgFNAAAAAAABAUkAAAAAAAMBUQAAAAAAAQFdAAAAAAADAUkAAAAAAAMBXQAAAAAAAgE9AAAAAAADAUkAAAAAAAABXQAAAAAAAgFVAAAAAAABAUUAAAAAAAIBWQAAAAAAAgFVAAAAAAAAAVkAAAAAAAEBYQAAAAAAAAFFAAAAAAABAVUAAAAAAAEBRQAAAAAAAwFZAAAAAAADAU0AAAAAAAIBSQAAAAAAAwFRA\",\"dtype\":\"float64\",\"order\":\"little\",\"shape\":[39]}},\"selected\":{\"id\":\"2090\"},\"selection_policy\":{\"id\":\"2108\"}},\"id\":\"2089\",\"type\":\"ColumnDataSource\"},{\"attributes\":{\"end\":142.22857142857143,\"reset_end\":142.22857142857143,\"reset_start\":9.771428571428572,\"start\":9.771428571428572,\"tags\":[[[\"annual_income\",\"annual_income\",null]]]},\"id\":\"2011\",\"type\":\"Range1d\"},{\"attributes\":{\"overlay\":{\"id\":\"2040\"}},\"id\":\"2038\",\"type\":\"BoxZoomTool\"},{\"attributes\":{},\"id\":\"2025\",\"type\":\"LinearScale\"},{\"attributes\":{\"fill_alpha\":{\"value\":0.2},\"fill_color\":{\"value\":\"#2ba02b\"},\"line_alpha\":{\"value\":0.2},\"line_color\":{\"value\":\"#2ba02b\"},\"size\":{\"units\":\"screen\",\"value\":5.477225575051661},\"x\":{\"field\":\"annual_income\"},\"y\":{\"field\":\"spending_score\"}},\"id\":\"2094\",\"type\":\"Scatter\"},{\"attributes\":{\"data_source\":{\"id\":\"2052\"},\"glyph\":{\"id\":\"2055\"},\"hover_glyph\":null,\"muted_glyph\":{\"id\":\"2057\"},\"nonselection_glyph\":{\"id\":\"2056\"},\"selection_glyph\":null,\"view\":{\"id\":\"2059\"}},\"id\":\"2058\",\"type\":\"GlyphRenderer\"},{\"attributes\":{\"fill_alpha\":{\"value\":0.1},\"fill_color\":{\"value\":\"#d62628\"},\"line_alpha\":{\"value\":0.1},\"line_color\":{\"value\":\"#d62628\"},\"size\":{\"units\":\"screen\",\"value\":5.477225575051661},\"x\":{\"field\":\"annual_income\"},\"y\":{\"field\":\"spending_score\"}},\"id\":\"2114\",\"type\":\"Scatter\"},{\"attributes\":{\"fill_alpha\":{\"value\":0.2},\"fill_color\":{\"value\":\"#1f77b3\"},\"line_alpha\":{\"value\":0.2},\"line_color\":{\"value\":\"#1f77b3\"},\"size\":{\"units\":\"screen\",\"value\":5.477225575051661},\"x\":{\"field\":\"annual_income\"},\"y\":{\"field\":\"spending_score\"}},\"id\":\"2057\",\"type\":\"Scatter\"},{\"attributes\":{},\"id\":\"2131\",\"type\":\"UnionRenderers\"},{\"attributes\":{\"fill_color\":{\"value\":\"#1f77b3\"},\"line_color\":{\"value\":\"#1f77b3\"},\"size\":{\"units\":\"screen\",\"value\":5.477225575051661},\"x\":{\"field\":\"annual_income\"},\"y\":{\"field\":\"spending_score\"}},\"id\":\"2055\",\"type\":\"Scatter\"},{\"attributes\":{},\"id\":\"2090\",\"type\":\"Selection\"},{\"attributes\":{\"fill_alpha\":{\"value\":0.1},\"fill_color\":{\"value\":\"#9367bc\"},\"line_alpha\":{\"value\":0.1},\"line_color\":{\"value\":\"#9367bc\"},\"size\":{\"units\":\"screen\",\"value\":5.477225575051661},\"x\":{\"field\":\"annual_income\"},\"y\":{\"field\":\"spending_score\"}},\"id\":\"2137\",\"type\":\"Scatter\"},{\"attributes\":{},\"id\":\"2111\",\"type\":\"Selection\"},{\"attributes\":{\"source\":{\"id\":\"2110\"}},\"id\":\"2117\",\"type\":\"CDSView\"},{\"attributes\":{},\"id\":\"2037\",\"type\":\"WheelZoomTool\"},{\"attributes\":{},\"id\":\"2053\",\"type\":\"Selection\"},{\"attributes\":{\"fill_alpha\":{\"value\":0.2},\"fill_color\":{\"value\":\"#9367bc\"},\"line_alpha\":{\"value\":0.2},\"line_color\":{\"value\":\"#9367bc\"},\"size\":{\"units\":\"screen\",\"value\":5.477225575051661},\"x\":{\"field\":\"annual_income\"},\"y\":{\"field\":\"spending_score\"}},\"id\":\"2138\",\"type\":\"Scatter\"},{\"attributes\":{},\"id\":\"2036\",\"type\":\"PanTool\"},{\"attributes\":{\"margin\":[5,5,5,5],\"name\":\"HSpacer03953\",\"sizing_mode\":\"stretch_width\"},\"id\":\"2010\",\"type\":\"Spacer\"},{\"attributes\":{\"click_policy\":\"mute\",\"items\":[{\"id\":\"2069\"},{\"id\":\"2088\"},{\"id\":\"2109\"},{\"id\":\"2132\"},{\"id\":\"2157\"}],\"location\":[0,0],\"title\":\"class\"},\"id\":\"2068\",\"type\":\"Legend\"},{\"attributes\":{\"fill_color\":{\"value\":\"#ff7e0e\"},\"line_color\":{\"value\":\"#ff7e0e\"},\"size\":{\"units\":\"screen\",\"value\":5.477225575051661},\"x\":{\"field\":\"annual_income\"},\"y\":{\"field\":\"spending_score\"}},\"id\":\"2073\",\"type\":\"Scatter\"},{\"attributes\":{},\"id\":\"2023\",\"type\":\"LinearScale\"},{\"attributes\":{\"fill_color\":{\"value\":\"#2ba02b\"},\"line_color\":{\"value\":\"#2ba02b\"},\"size\":{\"units\":\"screen\",\"value\":5.477225575051661},\"x\":{\"field\":\"annual_income\"},\"y\":{\"field\":\"spending_score\"}},\"id\":\"2092\",\"type\":\"Scatter\"},{\"attributes\":{\"label\":{\"value\":\"2\"},\"renderers\":[{\"id\":\"2095\"}]},\"id\":\"2109\",\"type\":\"LegendItem\"},{\"attributes\":{},\"id\":\"2071\",\"type\":\"Selection\"},{\"attributes\":{\"source\":{\"id\":\"2089\"}},\"id\":\"2096\",\"type\":\"CDSView\"},{\"attributes\":{\"fill_alpha\":{\"value\":0.1},\"fill_color\":{\"value\":\"#ff7e0e\"},\"line_alpha\":{\"value\":0.1},\"line_color\":{\"value\":\"#ff7e0e\"},\"size\":{\"units\":\"screen\",\"value\":5.477225575051661},\"x\":{\"field\":\"annual_income\"},\"y\":{\"field\":\"spending_score\"}},\"id\":\"2074\",\"type\":\"Scatter\"},{\"attributes\":{\"bottom_units\":\"screen\",\"fill_alpha\":0.5,\"fill_color\":\"lightgrey\",\"left_units\":\"screen\",\"level\":\"overlay\",\"line_alpha\":1.0,\"line_color\":\"black\",\"line_dash\":[4,4],\"line_width\":2,\"right_units\":\"screen\",\"top_units\":\"screen\"},\"id\":\"2040\",\"type\":\"BoxAnnotation\"},{\"attributes\":{\"fill_alpha\":{\"value\":0.2},\"fill_color\":{\"value\":\"#d62628\"},\"line_alpha\":{\"value\":0.2},\"line_color\":{\"value\":\"#d62628\"},\"size\":{\"units\":\"screen\",\"value\":5.477225575051661},\"x\":{\"field\":\"annual_income\"},\"y\":{\"field\":\"spending_score\"}},\"id\":\"2115\",\"type\":\"Scatter\"},{\"attributes\":{\"axis_label\":\"spending_score\",\"bounds\":\"auto\",\"formatter\":{\"id\":\"2050\"},\"major_label_orientation\":\"horizontal\",\"ticker\":{\"id\":\"2032\"}},\"id\":\"2031\",\"type\":\"LinearAxis\"},{\"attributes\":{},\"id\":\"2028\",\"type\":\"BasicTicker\"},{\"attributes\":{\"source\":{\"id\":\"2133\"}},\"id\":\"2140\",\"type\":\"CDSView\"},{\"attributes\":{\"label\":{\"value\":\"4\"},\"renderers\":[{\"id\":\"2139\"}]},\"id\":\"2157\",\"type\":\"LegendItem\"},{\"attributes\":{\"data_source\":{\"id\":\"2070\"},\"glyph\":{\"id\":\"2073\"},\"hover_glyph\":null,\"muted_glyph\":{\"id\":\"2075\"},\"nonselection_glyph\":{\"id\":\"2074\"},\"selection_glyph\":null,\"view\":{\"id\":\"2077\"}},\"id\":\"2076\",\"type\":\"GlyphRenderer\"},{\"attributes\":{\"callback\":null,\"renderers\":[{\"id\":\"2058\"},{\"id\":\"2076\"},{\"id\":\"2095\"},{\"id\":\"2116\"},{\"id\":\"2139\"}],\"tags\":[\"hv_created\"],\"tooltips\":[[\"class\",\"@{class}\"],[\"annual_income\",\"@{annual_income}\"],[\"spending_score\",\"@{spending_score}\"]]},\"id\":\"2013\",\"type\":\"HoverTool\"},{\"attributes\":{},\"id\":\"2156\",\"type\":\"UnionRenderers\"},{\"attributes\":{\"children\":[{\"id\":\"2010\"},{\"id\":\"2018\"},{\"id\":\"2302\"}],\"margin\":[0,0,0,0],\"name\":\"Row03949\",\"tags\":[\"embedded\"]},\"id\":\"2009\",\"type\":\"Row\"},{\"attributes\":{\"margin\":[5,5,5,5],\"name\":\"HSpacer03954\",\"sizing_mode\":\"stretch_width\"},\"id\":\"2302\",\"type\":\"Spacer\"},{\"attributes\":{\"data\":{\"annual_income\":{\"__ndarray__\":\"AAAAAACAUUAAAAAAAMBRQAAAAAAAwFFAAAAAAAAAUkAAAAAAAEBSQAAAAAAAQFJAAAAAAACAUkAAAAAAAMBSQAAAAAAAQFNAAAAAAABAU0AAAAAAAIBTQAAAAAAAgFNAAAAAAACAU0AAAAAAAIBTQAAAAAAAgFNAAAAAAACAU0AAAAAAAMBTQAAAAAAAQFRAAAAAAABAVUAAAAAAAIBVQAAAAAAAwFVAAAAAAADAVUAAAAAAAMBVQAAAAAAAAFZAAAAAAAAAVkAAAAAAAEBXQAAAAAAAQFhAAAAAAACAWEAAAAAAAMBYQAAAAAAAQFlAAAAAAADAWUAAAAAAAMBZQAAAAAAAQFxAAAAAAAAAXkAAAAAAAIBfQAAAAAAAIGFA\",\"dtype\":\"float64\",\"order\":\"little\",\"shape\":[36]},\"class\":[3,3,3,3,3,3,3,3,3,3,3,3,3,3,3,3,3,3,3,3,3,3,3,3,3,3,3,3,3,3,3,3,3,3,3,3],\"spending_score\":{\"__ndarray__\":\"AAAAAAAAPUAAAAAAAAAmQAAAAAAAACJAAAAAAAAAQUAAAAAAAAAUQAAAAAAAABxAAAAAAAAAJEAAAAAAAAAUQAAAAAAAAChAAAAAAAAAQkAAAAAAAAA2QAAAAAAAADFAAAAAAAAANEAAAAAAAAAwQAAAAAAAAPA/AAAAAAAA8D8AAAAAAIBBQAAAAAAAABRAAAAAAAAAOkAAAAAAAAA0QAAAAAAAADtAAAAAAAAAKkAAAAAAAAAkQAAAAAAAACpAAAAAAAAALkAAAAAAAAAsQAAAAAAAAEBAAAAAAAAALkAAAAAAAIBDQAAAAAAAADhAAAAAAAAAMUAAAAAAAAA3QAAAAAAAACBAAAAAAAAAMEAAAAAAAAA8QAAAAAAAADJA\",\"dtype\":\"float64\",\"order\":\"little\",\"shape\":[36]}},\"selected\":{\"id\":\"2111\"},\"selection_policy\":{\"id\":\"2131\"}},\"id\":\"2110\",\"type\":\"ColumnDataSource\"},{\"attributes\":{},\"id\":\"2039\",\"type\":\"ResetTool\"},{\"attributes\":{\"source\":{\"id\":\"2070\"}},\"id\":\"2077\",\"type\":\"CDSView\"},{\"attributes\":{\"end\":108.8,\"reset_end\":108.8,\"reset_start\":-8.8,\"start\":-8.8,\"tags\":[[[\"spending_score\",\"spending_score\",null]]]},\"id\":\"2012\",\"type\":\"Range1d\"},{\"attributes\":{\"fill_color\":{\"value\":\"#9367bc\"},\"line_color\":{\"value\":\"#9367bc\"},\"size\":{\"units\":\"screen\",\"value\":5.477225575051661},\"x\":{\"field\":\"annual_income\"},\"y\":{\"field\":\"spending_score\"}},\"id\":\"2136\",\"type\":\"Scatter\"},{\"attributes\":{},\"id\":\"2087\",\"type\":\"UnionRenderers\"},{\"attributes\":{\"axis\":{\"id\":\"2027\"},\"grid_line_color\":null,\"ticker\":null},\"id\":\"2030\",\"type\":\"Grid\"},{\"attributes\":{\"active_drag\":\"auto\",\"active_inspect\":\"auto\",\"active_multi\":null,\"active_scroll\":\"auto\",\"active_tap\":\"auto\",\"tools\":[{\"id\":\"2013\"},{\"id\":\"2035\"},{\"id\":\"2036\"},{\"id\":\"2037\"},{\"id\":\"2038\"},{\"id\":\"2039\"}]},\"id\":\"2041\",\"type\":\"Toolbar\"},{\"attributes\":{\"data\":{\"annual_income\":{\"__ndarray__\":\"AAAAAAAAREAAAAAAAABEQAAAAAAAAERAAAAAAAAAREAAAAAAAABFQAAAAAAAAEVAAAAAAACARUAAAAAAAIBFQAAAAAAAgEVAAAAAAACARUAAAAAAAABGQAAAAAAAAEZAAAAAAAAAR0AAAAAAAABHQAAAAAAAAEdAAAAAAAAAR0AAAAAAAIBHQAAAAAAAgEdAAAAAAAAASEAAAAAAAABIQAAAAAAAAEhAAAAAAAAASEAAAAAAAABIQAAAAAAAAEhAAAAAAACASEAAAAAAAIBIQAAAAAAAAElAAAAAAAAASUAAAAAAAABLQAAAAAAAAEtAAAAAAAAAS0AAAAAAAABLQAAAAAAAAEtAAAAAAAAAS0AAAAAAAABLQAAAAAAAAEtAAAAAAAAAS0AAAAAAAABLQAAAAAAAAEtAAAAAAAAAS0AAAAAAAIBMQAAAAAAAgExAAAAAAAAATUAAAAAAAABNQAAAAAAAgE1AAAAAAACATUAAAAAAAABOQAAAAAAAAE5AAAAAAAAATkAAAAAAAABOQAAAAAAAAE5AAAAAAAAATkAAAAAAAIBOQAAAAAAAgE5AAAAAAAAAT0AAAAAAAABPQAAAAAAAAE9AAAAAAAAAT0AAAAAAAABPQAAAAAAAAE9AAAAAAACAT0AAAAAAAIBPQAAAAAAAgE9AAAAAAACAT0AAAAAAAIBPQAAAAAAAgE9AAAAAAAAAUEAAAAAAAABQQAAAAAAAQFBAAAAAAABAUEAAAAAAAEBQQAAAAAAAQFBAAAAAAADAUEAAAAAAAMBQQAAAAAAAwFBAAAAAAADAUEAAAAAAAEBRQAAAAAAAwFFAAAAAAAAAU0A=\",\"dtype\":\"float64\",\"order\":\"little\",\"shape\":[79]},\"class\":[1,1,1,1,1,1,1,1,1,1,1,1,1,1,1,1,1,1,1,1,1,1,1,1,1,1,1,1,1,1,1,1,1,1,1,1,1,1,1,1,1,1,1,1,1,1,1,1,1,1,1,1,1,1,1,1,1,1,1,1,1,1,1,1,1,1,1,1,1,1,1,1,1,1,1,1,1,1,1],\"spending_score\":{\"__ndarray__\":\"AAAAAACAS0AAAAAAAIBHQAAAAAAAAEVAAAAAAAAARUAAAAAAAABKQAAAAAAAAE5AAAAAAAAAS0AAAAAAAABOQAAAAAAAgEZAAAAAAACAREAAAAAAAABJQAAAAAAAAEdAAAAAAACASUAAAAAAAABHQAAAAAAAAExAAAAAAACAS0AAAAAAAABKQAAAAAAAgE1AAAAAAACASUAAAAAAAIBNQAAAAAAAAElAAAAAAAAASEAAAAAAAIBNQAAAAAAAgEdAAAAAAACAS0AAAAAAAABFQAAAAAAAgEhAAAAAAAAATEAAAAAAAIBHQAAAAAAAAEtAAAAAAACASkAAAAAAAABIQAAAAAAAAEpAAAAAAAAARUAAAAAAAIBJQAAAAAAAgEtAAAAAAACAREAAAAAAAABGQAAAAAAAgExAAAAAAAAAR0AAAAAAAABNQAAAAAAAgEtAAAAAAAAATkAAAAAAAABHQAAAAAAAgEtAAAAAAACAREAAAAAAAIBIQAAAAAAAAERAAAAAAAAARUAAAAAAAABKQAAAAAAAgEdAAAAAAAAASUAAAAAAAABFQAAAAAAAgEhAAAAAAACAREAAAAAAAABIQAAAAAAAgE1AAAAAAACAS0AAAAAAAABMQAAAAAAAAEVAAAAAAAAASUAAAAAAAABHQAAAAAAAgEVAAAAAAAAASEAAAAAAAABKQAAAAAAAAEtAAAAAAAAARUAAAAAAAABHQAAAAAAAAEhAAAAAAAAASUAAAAAAAIBFQAAAAAAAgE1AAAAAAACARUAAAAAAAIBMQAAAAAAAAExAAAAAAAAAREAAAAAAAABNQAAAAAAAgEFAAAAAAAAAREA=\",\"dtype\":\"float64\",\"order\":\"little\",\"shape\":[79]}},\"selected\":{\"id\":\"2071\"},\"selection_policy\":{\"id\":\"2087\"}},\"id\":\"2070\",\"type\":\"ColumnDataSource\"},{\"attributes\":{\"data\":{\"annual_income\":{\"__ndarray__\":\"AAAAAAAALkAAAAAAAAAwQAAAAAAAADFAAAAAAAAAMkAAAAAAAAAzQAAAAAAAADNAAAAAAAAANEAAAAAAAAA0QAAAAAAAADVAAAAAAAAAN0AAAAAAAAA4QAAAAAAAADlAAAAAAAAAPEAAAAAAAAA8QAAAAAAAAD1AAAAAAAAAPkAAAAAAAIBAQAAAAAAAgEBAAAAAAAAAQUAAAAAAAIBCQAAAAAAAAENAAAAAAACAQ0AAAAAAAIBDQA==\",\"dtype\":\"float64\",\"order\":\"little\",\"shape\":[23]},\"class\":[4,4,4,4,4,4,4,4,4,4,4,4,4,4,4,4,4,4,4,4,4,4,4],\"spending_score\":{\"__ndarray__\":\"AAAAAABAVEAAAAAAAEBTQAAAAAAAAFNAAAAAAACAV0AAAAAAAABSQAAAAAAAwFhAAAAAAABAU0AAAAAAAMBTQAAAAAAAgFBAAAAAAACAWEAAAAAAAEBSQAAAAAAAQFJAAAAAAACAVEAAAAAAAIBOQAAAAAAAwFVAAAAAAABAUkAAAAAAAABXQAAAAAAAQFRAAAAAAABAUkAAAAAAAMBSQAAAAAAAAFdAAAAAAACATkAAAAAAAEBQQA==\",\"dtype\":\"float64\",\"order\":\"little\",\"shape\":[23]}},\"selected\":{\"id\":\"2134\"},\"selection_policy\":{\"id\":\"2156\"}},\"id\":\"2133\",\"type\":\"ColumnDataSource\"},{\"attributes\":{\"fill_alpha\":{\"value\":0.2},\"fill_color\":{\"value\":\"#ff7e0e\"},\"line_alpha\":{\"value\":0.2},\"line_color\":{\"value\":\"#ff7e0e\"},\"size\":{\"units\":\"screen\",\"value\":5.477225575051661},\"x\":{\"field\":\"annual_income\"},\"y\":{\"field\":\"spending_score\"}},\"id\":\"2075\",\"type\":\"Scatter\"}],\"root_ids\":[\"2009\"]},\"title\":\"Bokeh Application\",\"version\":\"2.1.0\"}};\n",
       "  var render_items = [{\"docid\":\"6902829a-9f4c-48c0-a778-34f502a15e02\",\"root_ids\":[\"2009\"],\"roots\":{\"2009\":\"3a538fcf-4e26-4fe1-ae1c-cc1b71950ccd\"}}];\n",
       "  root.Bokeh.embed.embed_items_notebook(docs_json, render_items);\n",
       "  }\n",
       "if (root.Bokeh !== undefined) {\n",
       "    embed_document(root);\n",
       "  } else {\n",
       "    var attempts = 0;\n",
       "    var timer = setInterval(function(root) {\n",
       "      if (root.Bokeh !== undefined) {\n",
       "        clearInterval(timer);\n",
       "        embed_document(root);\n",
       "      } else if (document.readyState == \"complete\") {\n",
       "        attempts++;\n",
       "        if (attempts > 100) {\n",
       "          clearInterval(timer);\n",
       "          console.log(\"Bokeh: ERROR: Unable to run BokehJS code because BokehJS library is missing\");\n",
       "        }\n",
       "      }\n",
       "    }, 10, root)\n",
       "  }\n",
       "})(window);</script>"
      ],
      "text/plain": [
       ":NdOverlay   [class]\n",
       "   :Scatter   [annual_income]   (spending_score)"
      ]
     },
     "execution_count": 19,
     "metadata": {
      "application/vnd.holoviews_exec.v0+json": {
       "id": "2009"
      }
     },
     "output_type": "execute_result"
    }
   ],
   "source": [
    "five_clusters.hvplot.scatter(x=\"annual_income\", y=\"spending_score\", by=\"class\")"
   ]
  },
  {
   "cell_type": "code",
   "execution_count": 20,
   "metadata": {},
   "outputs": [
    {
     "data": {
      "application/vnd.plotly.v1+json": {
       "config": {
        "plotlyServerURL": "https://plot.ly"
       },
       "data": [
        {
         "hovertemplate": "class=%{marker.color}<br>age=%{x}<br>spending_score=%{y}<br>annual_income=%{z}<extra></extra>",
         "legendgroup": "0",
         "marker": {
          "color": [
           0,
           0,
           0,
           0,
           0,
           0,
           0,
           0,
           0,
           0,
           0,
           0,
           0,
           0,
           0,
           0,
           0,
           0,
           0,
           0,
           0,
           0,
           0
          ],
          "coloraxis": "coloraxis",
          "symbol": "circle"
         },
         "mode": "markers",
         "name": "0",
         "scene": "scene",
         "showlegend": true,
         "type": "scatter3d",
         "x": [
          19,
          20,
          31,
          35,
          64,
          67,
          58,
          37,
          35,
          52,
          35,
          46,
          54,
          45,
          40,
          60,
          53,
          49,
          42,
          36,
          65,
          48,
          49
         ],
         "y": [
          39,
          6,
          40,
          6,
          3,
          14,
          15,
          13,
          35,
          29,
          35,
          5,
          14,
          32,
          31,
          4,
          4,
          14,
          17,
          26,
          35,
          36,
          28
         ],
         "z": [
          15,
          16,
          17,
          18,
          19,
          19,
          20,
          20,
          21,
          23,
          24,
          25,
          28,
          28,
          29,
          30,
          33,
          33,
          34,
          37,
          38,
          39,
          39
         ]
        },
        {
         "hovertemplate": "class=%{marker.color}<br>age=%{x}<br>spending_score=%{y}<br>annual_income=%{z}<extra></extra>",
         "legendgroup": "4",
         "marker": {
          "color": [
           4,
           4,
           4,
           4,
           4,
           4,
           4,
           4,
           4,
           4,
           4,
           4,
           4,
           4,
           4,
           4,
           4,
           4,
           4,
           4,
           4,
           4,
           4
          ],
          "coloraxis": "coloraxis",
          "symbol": "diamond"
         },
         "mode": "markers",
         "name": "4",
         "scene": "scene",
         "showlegend": true,
         "type": "scatter3d",
         "x": [
          21,
          23,
          22,
          23,
          30,
          35,
          24,
          22,
          20,
          35,
          25,
          31,
          29,
          35,
          23,
          21,
          18,
          21,
          30,
          20,
          24,
          31,
          24
         ],
         "y": [
          81,
          77,
          76,
          94,
          72,
          99,
          77,
          79,
          66,
          98,
          73,
          73,
          82,
          61,
          87,
          73,
          92,
          81,
          73,
          75,
          92,
          61,
          65
         ],
         "z": [
          15,
          16,
          17,
          18,
          19,
          19,
          20,
          20,
          21,
          23,
          24,
          25,
          28,
          28,
          29,
          30,
          33,
          33,
          34,
          37,
          38,
          39,
          39
         ]
        },
        {
         "hovertemplate": "class=%{marker.color}<br>age=%{x}<br>spending_score=%{y}<br>annual_income=%{z}<extra></extra>",
         "legendgroup": "1",
         "marker": {
          "color": [
           1,
           1,
           1,
           1,
           1,
           1,
           1,
           1,
           1,
           1,
           1,
           1,
           1,
           1,
           1,
           1,
           1,
           1,
           1,
           1,
           1,
           1,
           1,
           1,
           1,
           1,
           1,
           1,
           1,
           1,
           1,
           1,
           1,
           1,
           1,
           1,
           1,
           1,
           1,
           1,
           1,
           1,
           1,
           1,
           1,
           1,
           1,
           1,
           1,
           1,
           1,
           1,
           1,
           1,
           1,
           1,
           1,
           1,
           1,
           1,
           1,
           1,
           1,
           1,
           1,
           1,
           1,
           1,
           1,
           1,
           1,
           1,
           1,
           1,
           1,
           1,
           1,
           1,
           1
          ],
          "coloraxis": "coloraxis",
          "symbol": "square"
         },
         "mode": "markers",
         "name": "1",
         "scene": "scene",
         "showlegend": true,
         "type": "scatter3d",
         "x": [
          50,
          27,
          29,
          31,
          49,
          33,
          31,
          59,
          50,
          47,
          51,
          69,
          27,
          53,
          70,
          19,
          67,
          54,
          63,
          18,
          43,
          68,
          19,
          32,
          70,
          47,
          60,
          60,
          59,
          26,
          45,
          40,
          23,
          49,
          57,
          38,
          67,
          46,
          21,
          48,
          55,
          22,
          34,
          50,
          68,
          18,
          48,
          40,
          32,
          24,
          47,
          27,
          48,
          20,
          23,
          49,
          67,
          26,
          49,
          21,
          66,
          54,
          68,
          66,
          65,
          19,
          38,
          19,
          18,
          19,
          63,
          49,
          51,
          50,
          27,
          38,
          40,
          43,
          28
         ],
         "y": [
          55,
          47,
          42,
          42,
          52,
          60,
          54,
          60,
          45,
          41,
          50,
          46,
          51,
          46,
          56,
          55,
          52,
          59,
          51,
          59,
          50,
          48,
          59,
          47,
          55,
          42,
          49,
          56,
          47,
          54,
          53,
          48,
          52,
          42,
          51,
          55,
          41,
          44,
          57,
          46,
          58,
          55,
          60,
          46,
          55,
          41,
          49,
          40,
          42,
          52,
          47,
          50,
          42,
          49,
          41,
          48,
          59,
          55,
          56,
          42,
          50,
          46,
          43,
          48,
          52,
          54,
          42,
          46,
          48,
          50,
          43,
          59,
          43,
          57,
          56,
          40,
          58,
          35,
          40
         ],
         "z": [
          40,
          40,
          40,
          40,
          42,
          42,
          43,
          43,
          43,
          43,
          44,
          44,
          46,
          46,
          46,
          46,
          47,
          47,
          48,
          48,
          48,
          48,
          48,
          48,
          49,
          49,
          50,
          50,
          54,
          54,
          54,
          54,
          54,
          54,
          54,
          54,
          54,
          54,
          54,
          54,
          57,
          57,
          58,
          58,
          59,
          59,
          60,
          60,
          60,
          60,
          60,
          60,
          61,
          61,
          62,
          62,
          62,
          62,
          62,
          62,
          63,
          63,
          63,
          63,
          63,
          63,
          64,
          64,
          65,
          65,
          65,
          65,
          67,
          67,
          67,
          67,
          69,
          71,
          76
         ]
        },
        {
         "hovertemplate": "class=%{marker.color}<br>age=%{x}<br>spending_score=%{y}<br>annual_income=%{z}<extra></extra>",
         "legendgroup": "2",
         "marker": {
          "color": [
           2,
           2,
           2,
           2,
           2,
           2,
           2,
           2,
           2,
           2,
           2,
           2,
           2,
           2,
           2,
           2,
           2,
           2,
           2,
           2,
           2,
           2,
           2,
           2,
           2,
           2,
           2,
           2,
           2,
           2,
           2,
           2,
           2,
           2,
           2,
           2,
           2,
           2,
           2
          ],
          "coloraxis": "coloraxis",
          "symbol": "x"
         },
         "mode": "markers",
         "name": "2",
         "scene": "scene",
         "showlegend": true,
         "type": "scatter3d",
         "x": [
          39,
          31,
          40,
          38,
          39,
          31,
          29,
          32,
          35,
          32,
          32,
          28,
          32,
          34,
          39,
          38,
          27,
          30,
          30,
          29,
          31,
          36,
          33,
          32,
          28,
          36,
          30,
          27,
          35,
          32,
          29,
          30,
          28,
          36,
          32,
          38,
          35,
          32,
          30
         ],
         "y": [
          91,
          77,
          95,
          75,
          75,
          71,
          88,
          73,
          72,
          93,
          87,
          97,
          74,
          90,
          88,
          76,
          89,
          78,
          73,
          83,
          93,
          75,
          95,
          63,
          75,
          92,
          86,
          69,
          90,
          86,
          88,
          97,
          68,
          85,
          69,
          91,
          79,
          74,
          83
         ],
         "z": [
          69,
          70,
          71,
          71,
          71,
          72,
          73,
          73,
          74,
          75,
          76,
          77,
          77,
          78,
          78,
          78,
          78,
          78,
          78,
          79,
          81,
          85,
          86,
          87,
          87,
          87,
          88,
          88,
          93,
          97,
          98,
          99,
          101,
          103,
          103,
          113,
          120,
          126,
          137
         ]
        },
        {
         "hovertemplate": "class=%{marker.color}<br>age=%{x}<br>spending_score=%{y}<br>annual_income=%{z}<extra></extra>",
         "legendgroup": "3",
         "marker": {
          "color": [
           3,
           3,
           3,
           3,
           3,
           3,
           3,
           3,
           3,
           3,
           3,
           3,
           3,
           3,
           3,
           3,
           3,
           3,
           3,
           3,
           3,
           3,
           3,
           3,
           3,
           3,
           3,
           3,
           3,
           3,
           3,
           3,
           3,
           3,
           3,
           3
          ],
          "coloraxis": "coloraxis",
          "symbol": "cross"
         },
         "mode": "markers",
         "name": "3",
         "scene": "scene",
         "showlegend": true,
         "type": "scatter3d",
         "x": [
          23,
          59,
          47,
          25,
          20,
          44,
          19,
          57,
          25,
          48,
          34,
          43,
          44,
          47,
          37,
          34,
          56,
          19,
          50,
          42,
          36,
          40,
          36,
          52,
          58,
          59,
          37,
          46,
          41,
          54,
          41,
          34,
          33,
          47,
          45,
          32
         ],
         "y": [
          29,
          11,
          9,
          34,
          5,
          7,
          10,
          5,
          12,
          36,
          22,
          17,
          20,
          16,
          1,
          1,
          35,
          5,
          26,
          20,
          27,
          13,
          10,
          13,
          15,
          14,
          32,
          15,
          39,
          24,
          17,
          23,
          8,
          16,
          28,
          18
         ],
         "z": [
          70,
          71,
          71,
          72,
          73,
          73,
          74,
          75,
          77,
          77,
          78,
          78,
          78,
          78,
          78,
          78,
          79,
          81,
          85,
          86,
          87,
          87,
          87,
          88,
          88,
          93,
          97,
          98,
          99,
          101,
          103,
          103,
          113,
          120,
          126,
          137
         ]
        }
       ],
       "layout": {
        "coloraxis": {
         "colorbar": {
          "title": {
           "text": "class"
          }
         },
         "colorscale": [
          [
           0,
           "#0d0887"
          ],
          [
           0.1111111111111111,
           "#46039f"
          ],
          [
           0.2222222222222222,
           "#7201a8"
          ],
          [
           0.3333333333333333,
           "#9c179e"
          ],
          [
           0.4444444444444444,
           "#bd3786"
          ],
          [
           0.5555555555555556,
           "#d8576b"
          ],
          [
           0.6666666666666666,
           "#ed7953"
          ],
          [
           0.7777777777777778,
           "#fb9f3a"
          ],
          [
           0.8888888888888888,
           "#fdca26"
          ],
          [
           1,
           "#f0f921"
          ]
         ]
        },
        "legend": {
         "title": {
          "text": "class"
         },
         "tracegroupgap": 0,
         "x": 0,
         "y": 1
        },
        "margin": {
         "t": 60
        },
        "scene": {
         "domain": {
          "x": [
           0,
           1
          ],
          "y": [
           0,
           1
          ]
         },
         "xaxis": {
          "title": {
           "text": "age"
          }
         },
         "yaxis": {
          "title": {
           "text": "spending_score"
          }
         },
         "zaxis": {
          "title": {
           "text": "annual_income"
          }
         }
        },
        "template": {
         "data": {
          "bar": [
           {
            "error_x": {
             "color": "#2a3f5f"
            },
            "error_y": {
             "color": "#2a3f5f"
            },
            "marker": {
             "line": {
              "color": "#E5ECF6",
              "width": 0.5
             }
            },
            "type": "bar"
           }
          ],
          "barpolar": [
           {
            "marker": {
             "line": {
              "color": "#E5ECF6",
              "width": 0.5
             }
            },
            "type": "barpolar"
           }
          ],
          "carpet": [
           {
            "aaxis": {
             "endlinecolor": "#2a3f5f",
             "gridcolor": "white",
             "linecolor": "white",
             "minorgridcolor": "white",
             "startlinecolor": "#2a3f5f"
            },
            "baxis": {
             "endlinecolor": "#2a3f5f",
             "gridcolor": "white",
             "linecolor": "white",
             "minorgridcolor": "white",
             "startlinecolor": "#2a3f5f"
            },
            "type": "carpet"
           }
          ],
          "choropleth": [
           {
            "colorbar": {
             "outlinewidth": 0,
             "ticks": ""
            },
            "type": "choropleth"
           }
          ],
          "contour": [
           {
            "colorbar": {
             "outlinewidth": 0,
             "ticks": ""
            },
            "colorscale": [
             [
              0,
              "#0d0887"
             ],
             [
              0.1111111111111111,
              "#46039f"
             ],
             [
              0.2222222222222222,
              "#7201a8"
             ],
             [
              0.3333333333333333,
              "#9c179e"
             ],
             [
              0.4444444444444444,
              "#bd3786"
             ],
             [
              0.5555555555555556,
              "#d8576b"
             ],
             [
              0.6666666666666666,
              "#ed7953"
             ],
             [
              0.7777777777777778,
              "#fb9f3a"
             ],
             [
              0.8888888888888888,
              "#fdca26"
             ],
             [
              1,
              "#f0f921"
             ]
            ],
            "type": "contour"
           }
          ],
          "contourcarpet": [
           {
            "colorbar": {
             "outlinewidth": 0,
             "ticks": ""
            },
            "type": "contourcarpet"
           }
          ],
          "heatmap": [
           {
            "colorbar": {
             "outlinewidth": 0,
             "ticks": ""
            },
            "colorscale": [
             [
              0,
              "#0d0887"
             ],
             [
              0.1111111111111111,
              "#46039f"
             ],
             [
              0.2222222222222222,
              "#7201a8"
             ],
             [
              0.3333333333333333,
              "#9c179e"
             ],
             [
              0.4444444444444444,
              "#bd3786"
             ],
             [
              0.5555555555555556,
              "#d8576b"
             ],
             [
              0.6666666666666666,
              "#ed7953"
             ],
             [
              0.7777777777777778,
              "#fb9f3a"
             ],
             [
              0.8888888888888888,
              "#fdca26"
             ],
             [
              1,
              "#f0f921"
             ]
            ],
            "type": "heatmap"
           }
          ],
          "heatmapgl": [
           {
            "colorbar": {
             "outlinewidth": 0,
             "ticks": ""
            },
            "colorscale": [
             [
              0,
              "#0d0887"
             ],
             [
              0.1111111111111111,
              "#46039f"
             ],
             [
              0.2222222222222222,
              "#7201a8"
             ],
             [
              0.3333333333333333,
              "#9c179e"
             ],
             [
              0.4444444444444444,
              "#bd3786"
             ],
             [
              0.5555555555555556,
              "#d8576b"
             ],
             [
              0.6666666666666666,
              "#ed7953"
             ],
             [
              0.7777777777777778,
              "#fb9f3a"
             ],
             [
              0.8888888888888888,
              "#fdca26"
             ],
             [
              1,
              "#f0f921"
             ]
            ],
            "type": "heatmapgl"
           }
          ],
          "histogram": [
           {
            "marker": {
             "colorbar": {
              "outlinewidth": 0,
              "ticks": ""
             }
            },
            "type": "histogram"
           }
          ],
          "histogram2d": [
           {
            "colorbar": {
             "outlinewidth": 0,
             "ticks": ""
            },
            "colorscale": [
             [
              0,
              "#0d0887"
             ],
             [
              0.1111111111111111,
              "#46039f"
             ],
             [
              0.2222222222222222,
              "#7201a8"
             ],
             [
              0.3333333333333333,
              "#9c179e"
             ],
             [
              0.4444444444444444,
              "#bd3786"
             ],
             [
              0.5555555555555556,
              "#d8576b"
             ],
             [
              0.6666666666666666,
              "#ed7953"
             ],
             [
              0.7777777777777778,
              "#fb9f3a"
             ],
             [
              0.8888888888888888,
              "#fdca26"
             ],
             [
              1,
              "#f0f921"
             ]
            ],
            "type": "histogram2d"
           }
          ],
          "histogram2dcontour": [
           {
            "colorbar": {
             "outlinewidth": 0,
             "ticks": ""
            },
            "colorscale": [
             [
              0,
              "#0d0887"
             ],
             [
              0.1111111111111111,
              "#46039f"
             ],
             [
              0.2222222222222222,
              "#7201a8"
             ],
             [
              0.3333333333333333,
              "#9c179e"
             ],
             [
              0.4444444444444444,
              "#bd3786"
             ],
             [
              0.5555555555555556,
              "#d8576b"
             ],
             [
              0.6666666666666666,
              "#ed7953"
             ],
             [
              0.7777777777777778,
              "#fb9f3a"
             ],
             [
              0.8888888888888888,
              "#fdca26"
             ],
             [
              1,
              "#f0f921"
             ]
            ],
            "type": "histogram2dcontour"
           }
          ],
          "mesh3d": [
           {
            "colorbar": {
             "outlinewidth": 0,
             "ticks": ""
            },
            "type": "mesh3d"
           }
          ],
          "parcoords": [
           {
            "line": {
             "colorbar": {
              "outlinewidth": 0,
              "ticks": ""
             }
            },
            "type": "parcoords"
           }
          ],
          "pie": [
           {
            "automargin": true,
            "type": "pie"
           }
          ],
          "scatter": [
           {
            "marker": {
             "colorbar": {
              "outlinewidth": 0,
              "ticks": ""
             }
            },
            "type": "scatter"
           }
          ],
          "scatter3d": [
           {
            "line": {
             "colorbar": {
              "outlinewidth": 0,
              "ticks": ""
             }
            },
            "marker": {
             "colorbar": {
              "outlinewidth": 0,
              "ticks": ""
             }
            },
            "type": "scatter3d"
           }
          ],
          "scattercarpet": [
           {
            "marker": {
             "colorbar": {
              "outlinewidth": 0,
              "ticks": ""
             }
            },
            "type": "scattercarpet"
           }
          ],
          "scattergeo": [
           {
            "marker": {
             "colorbar": {
              "outlinewidth": 0,
              "ticks": ""
             }
            },
            "type": "scattergeo"
           }
          ],
          "scattergl": [
           {
            "marker": {
             "colorbar": {
              "outlinewidth": 0,
              "ticks": ""
             }
            },
            "type": "scattergl"
           }
          ],
          "scattermapbox": [
           {
            "marker": {
             "colorbar": {
              "outlinewidth": 0,
              "ticks": ""
             }
            },
            "type": "scattermapbox"
           }
          ],
          "scatterpolar": [
           {
            "marker": {
             "colorbar": {
              "outlinewidth": 0,
              "ticks": ""
             }
            },
            "type": "scatterpolar"
           }
          ],
          "scatterpolargl": [
           {
            "marker": {
             "colorbar": {
              "outlinewidth": 0,
              "ticks": ""
             }
            },
            "type": "scatterpolargl"
           }
          ],
          "scatterternary": [
           {
            "marker": {
             "colorbar": {
              "outlinewidth": 0,
              "ticks": ""
             }
            },
            "type": "scatterternary"
           }
          ],
          "surface": [
           {
            "colorbar": {
             "outlinewidth": 0,
             "ticks": ""
            },
            "colorscale": [
             [
              0,
              "#0d0887"
             ],
             [
              0.1111111111111111,
              "#46039f"
             ],
             [
              0.2222222222222222,
              "#7201a8"
             ],
             [
              0.3333333333333333,
              "#9c179e"
             ],
             [
              0.4444444444444444,
              "#bd3786"
             ],
             [
              0.5555555555555556,
              "#d8576b"
             ],
             [
              0.6666666666666666,
              "#ed7953"
             ],
             [
              0.7777777777777778,
              "#fb9f3a"
             ],
             [
              0.8888888888888888,
              "#fdca26"
             ],
             [
              1,
              "#f0f921"
             ]
            ],
            "type": "surface"
           }
          ],
          "table": [
           {
            "cells": {
             "fill": {
              "color": "#EBF0F8"
             },
             "line": {
              "color": "white"
             }
            },
            "header": {
             "fill": {
              "color": "#C8D4E3"
             },
             "line": {
              "color": "white"
             }
            },
            "type": "table"
           }
          ]
         },
         "layout": {
          "annotationdefaults": {
           "arrowcolor": "#2a3f5f",
           "arrowhead": 0,
           "arrowwidth": 1
          },
          "coloraxis": {
           "colorbar": {
            "outlinewidth": 0,
            "ticks": ""
           }
          },
          "colorscale": {
           "diverging": [
            [
             0,
             "#8e0152"
            ],
            [
             0.1,
             "#c51b7d"
            ],
            [
             0.2,
             "#de77ae"
            ],
            [
             0.3,
             "#f1b6da"
            ],
            [
             0.4,
             "#fde0ef"
            ],
            [
             0.5,
             "#f7f7f7"
            ],
            [
             0.6,
             "#e6f5d0"
            ],
            [
             0.7,
             "#b8e186"
            ],
            [
             0.8,
             "#7fbc41"
            ],
            [
             0.9,
             "#4d9221"
            ],
            [
             1,
             "#276419"
            ]
           ],
           "sequential": [
            [
             0,
             "#0d0887"
            ],
            [
             0.1111111111111111,
             "#46039f"
            ],
            [
             0.2222222222222222,
             "#7201a8"
            ],
            [
             0.3333333333333333,
             "#9c179e"
            ],
            [
             0.4444444444444444,
             "#bd3786"
            ],
            [
             0.5555555555555556,
             "#d8576b"
            ],
            [
             0.6666666666666666,
             "#ed7953"
            ],
            [
             0.7777777777777778,
             "#fb9f3a"
            ],
            [
             0.8888888888888888,
             "#fdca26"
            ],
            [
             1,
             "#f0f921"
            ]
           ],
           "sequentialminus": [
            [
             0,
             "#0d0887"
            ],
            [
             0.1111111111111111,
             "#46039f"
            ],
            [
             0.2222222222222222,
             "#7201a8"
            ],
            [
             0.3333333333333333,
             "#9c179e"
            ],
            [
             0.4444444444444444,
             "#bd3786"
            ],
            [
             0.5555555555555556,
             "#d8576b"
            ],
            [
             0.6666666666666666,
             "#ed7953"
            ],
            [
             0.7777777777777778,
             "#fb9f3a"
            ],
            [
             0.8888888888888888,
             "#fdca26"
            ],
            [
             1,
             "#f0f921"
            ]
           ]
          },
          "colorway": [
           "#636efa",
           "#EF553B",
           "#00cc96",
           "#ab63fa",
           "#FFA15A",
           "#19d3f3",
           "#FF6692",
           "#B6E880",
           "#FF97FF",
           "#FECB52"
          ],
          "font": {
           "color": "#2a3f5f"
          },
          "geo": {
           "bgcolor": "white",
           "lakecolor": "white",
           "landcolor": "#E5ECF6",
           "showlakes": true,
           "showland": true,
           "subunitcolor": "white"
          },
          "hoverlabel": {
           "align": "left"
          },
          "hovermode": "closest",
          "mapbox": {
           "style": "light"
          },
          "paper_bgcolor": "white",
          "plot_bgcolor": "#E5ECF6",
          "polar": {
           "angularaxis": {
            "gridcolor": "white",
            "linecolor": "white",
            "ticks": ""
           },
           "bgcolor": "#E5ECF6",
           "radialaxis": {
            "gridcolor": "white",
            "linecolor": "white",
            "ticks": ""
           }
          },
          "scene": {
           "xaxis": {
            "backgroundcolor": "#E5ECF6",
            "gridcolor": "white",
            "gridwidth": 2,
            "linecolor": "white",
            "showbackground": true,
            "ticks": "",
            "zerolinecolor": "white"
           },
           "yaxis": {
            "backgroundcolor": "#E5ECF6",
            "gridcolor": "white",
            "gridwidth": 2,
            "linecolor": "white",
            "showbackground": true,
            "ticks": "",
            "zerolinecolor": "white"
           },
           "zaxis": {
            "backgroundcolor": "#E5ECF6",
            "gridcolor": "white",
            "gridwidth": 2,
            "linecolor": "white",
            "showbackground": true,
            "ticks": "",
            "zerolinecolor": "white"
           }
          },
          "shapedefaults": {
           "line": {
            "color": "#2a3f5f"
           }
          },
          "ternary": {
           "aaxis": {
            "gridcolor": "white",
            "linecolor": "white",
            "ticks": ""
           },
           "baxis": {
            "gridcolor": "white",
            "linecolor": "white",
            "ticks": ""
           },
           "bgcolor": "#E5ECF6",
           "caxis": {
            "gridcolor": "white",
            "linecolor": "white",
            "ticks": ""
           }
          },
          "title": {
           "x": 0.05
          },
          "xaxis": {
           "automargin": true,
           "gridcolor": "white",
           "linecolor": "white",
           "ticks": "",
           "title": {
            "standoff": 15
           },
           "zerolinecolor": "white",
           "zerolinewidth": 2
          },
          "yaxis": {
           "automargin": true,
           "gridcolor": "white",
           "linecolor": "white",
           "ticks": "",
           "title": {
            "standoff": 15
           },
           "zerolinecolor": "white",
           "zerolinewidth": 2
          }
         }
        },
        "width": 800
       }
      },
      "text/html": [
       "<div>                            <div id=\"a45fcdff-11bb-4b6a-9472-423730976575\" class=\"plotly-graph-div\" style=\"height:525px; width:800px;\"></div>            <script type=\"text/javascript\">                require([\"plotly\"], function(Plotly) {                    window.PLOTLYENV=window.PLOTLYENV || {};                                    if (document.getElementById(\"a45fcdff-11bb-4b6a-9472-423730976575\")) {                    Plotly.newPlot(                        \"a45fcdff-11bb-4b6a-9472-423730976575\",                        [{\"hovertemplate\": \"class=%{marker.color}<br>age=%{x}<br>spending_score=%{y}<br>annual_income=%{z}<extra></extra>\", \"legendgroup\": \"0\", \"marker\": {\"color\": [0, 0, 0, 0, 0, 0, 0, 0, 0, 0, 0, 0, 0, 0, 0, 0, 0, 0, 0, 0, 0, 0, 0], \"coloraxis\": \"coloraxis\", \"symbol\": \"circle\"}, \"mode\": \"markers\", \"name\": \"0\", \"scene\": \"scene\", \"showlegend\": true, \"type\": \"scatter3d\", \"x\": [19.0, 20.0, 31.0, 35.0, 64.0, 67.0, 58.0, 37.0, 35.0, 52.0, 35.0, 46.0, 54.0, 45.0, 40.0, 60.0, 53.0, 49.0, 42.0, 36.0, 65.0, 48.0, 49.0], \"y\": [39.0, 6.0, 40.0, 6.0, 3.0, 14.0, 15.0, 13.0, 35.0, 29.0, 35.0, 5.0, 14.0, 32.0, 31.0, 4.0, 4.0, 14.0, 17.0, 26.0, 35.0, 36.0, 28.0], \"z\": [15.0, 16.0, 17.0, 18.0, 19.0, 19.0, 20.0, 20.0, 21.0, 23.0, 24.0, 25.0, 28.0, 28.0, 29.0, 30.0, 33.0, 33.0, 34.0, 37.0, 38.0, 39.0, 39.0]}, {\"hovertemplate\": \"class=%{marker.color}<br>age=%{x}<br>spending_score=%{y}<br>annual_income=%{z}<extra></extra>\", \"legendgroup\": \"4\", \"marker\": {\"color\": [4, 4, 4, 4, 4, 4, 4, 4, 4, 4, 4, 4, 4, 4, 4, 4, 4, 4, 4, 4, 4, 4, 4], \"coloraxis\": \"coloraxis\", \"symbol\": \"diamond\"}, \"mode\": \"markers\", \"name\": \"4\", \"scene\": \"scene\", \"showlegend\": true, \"type\": \"scatter3d\", \"x\": [21.0, 23.0, 22.0, 23.0, 30.0, 35.0, 24.0, 22.0, 20.0, 35.0, 25.0, 31.0, 29.0, 35.0, 23.0, 21.0, 18.0, 21.0, 30.0, 20.0, 24.0, 31.0, 24.0], \"y\": [81.0, 77.0, 76.0, 94.0, 72.0, 99.0, 77.0, 79.0, 66.0, 98.0, 73.0, 73.0, 82.0, 61.0, 87.0, 73.0, 92.0, 81.0, 73.0, 75.0, 92.0, 61.0, 65.0], \"z\": [15.0, 16.0, 17.0, 18.0, 19.0, 19.0, 20.0, 20.0, 21.0, 23.0, 24.0, 25.0, 28.0, 28.0, 29.0, 30.0, 33.0, 33.0, 34.0, 37.0, 38.0, 39.0, 39.0]}, {\"hovertemplate\": \"class=%{marker.color}<br>age=%{x}<br>spending_score=%{y}<br>annual_income=%{z}<extra></extra>\", \"legendgroup\": \"1\", \"marker\": {\"color\": [1, 1, 1, 1, 1, 1, 1, 1, 1, 1, 1, 1, 1, 1, 1, 1, 1, 1, 1, 1, 1, 1, 1, 1, 1, 1, 1, 1, 1, 1, 1, 1, 1, 1, 1, 1, 1, 1, 1, 1, 1, 1, 1, 1, 1, 1, 1, 1, 1, 1, 1, 1, 1, 1, 1, 1, 1, 1, 1, 1, 1, 1, 1, 1, 1, 1, 1, 1, 1, 1, 1, 1, 1, 1, 1, 1, 1, 1, 1], \"coloraxis\": \"coloraxis\", \"symbol\": \"square\"}, \"mode\": \"markers\", \"name\": \"1\", \"scene\": \"scene\", \"showlegend\": true, \"type\": \"scatter3d\", \"x\": [50.0, 27.0, 29.0, 31.0, 49.0, 33.0, 31.0, 59.0, 50.0, 47.0, 51.0, 69.0, 27.0, 53.0, 70.0, 19.0, 67.0, 54.0, 63.0, 18.0, 43.0, 68.0, 19.0, 32.0, 70.0, 47.0, 60.0, 60.0, 59.0, 26.0, 45.0, 40.0, 23.0, 49.0, 57.0, 38.0, 67.0, 46.0, 21.0, 48.0, 55.0, 22.0, 34.0, 50.0, 68.0, 18.0, 48.0, 40.0, 32.0, 24.0, 47.0, 27.0, 48.0, 20.0, 23.0, 49.0, 67.0, 26.0, 49.0, 21.0, 66.0, 54.0, 68.0, 66.0, 65.0, 19.0, 38.0, 19.0, 18.0, 19.0, 63.0, 49.0, 51.0, 50.0, 27.0, 38.0, 40.0, 43.0, 28.0], \"y\": [55.0, 47.0, 42.0, 42.0, 52.0, 60.0, 54.0, 60.0, 45.0, 41.0, 50.0, 46.0, 51.0, 46.0, 56.0, 55.0, 52.0, 59.0, 51.0, 59.0, 50.0, 48.0, 59.0, 47.0, 55.0, 42.0, 49.0, 56.0, 47.0, 54.0, 53.0, 48.0, 52.0, 42.0, 51.0, 55.0, 41.0, 44.0, 57.0, 46.0, 58.0, 55.0, 60.0, 46.0, 55.0, 41.0, 49.0, 40.0, 42.0, 52.0, 47.0, 50.0, 42.0, 49.0, 41.0, 48.0, 59.0, 55.0, 56.0, 42.0, 50.0, 46.0, 43.0, 48.0, 52.0, 54.0, 42.0, 46.0, 48.0, 50.0, 43.0, 59.0, 43.0, 57.0, 56.0, 40.0, 58.0, 35.0, 40.0], \"z\": [40.0, 40.0, 40.0, 40.0, 42.0, 42.0, 43.0, 43.0, 43.0, 43.0, 44.0, 44.0, 46.0, 46.0, 46.0, 46.0, 47.0, 47.0, 48.0, 48.0, 48.0, 48.0, 48.0, 48.0, 49.0, 49.0, 50.0, 50.0, 54.0, 54.0, 54.0, 54.0, 54.0, 54.0, 54.0, 54.0, 54.0, 54.0, 54.0, 54.0, 57.0, 57.0, 58.0, 58.0, 59.0, 59.0, 60.0, 60.0, 60.0, 60.0, 60.0, 60.0, 61.0, 61.0, 62.0, 62.0, 62.0, 62.0, 62.0, 62.0, 63.0, 63.0, 63.0, 63.0, 63.0, 63.0, 64.0, 64.0, 65.0, 65.0, 65.0, 65.0, 67.0, 67.0, 67.0, 67.0, 69.0, 71.0, 76.0]}, {\"hovertemplate\": \"class=%{marker.color}<br>age=%{x}<br>spending_score=%{y}<br>annual_income=%{z}<extra></extra>\", \"legendgroup\": \"2\", \"marker\": {\"color\": [2, 2, 2, 2, 2, 2, 2, 2, 2, 2, 2, 2, 2, 2, 2, 2, 2, 2, 2, 2, 2, 2, 2, 2, 2, 2, 2, 2, 2, 2, 2, 2, 2, 2, 2, 2, 2, 2, 2], \"coloraxis\": \"coloraxis\", \"symbol\": \"x\"}, \"mode\": \"markers\", \"name\": \"2\", \"scene\": \"scene\", \"showlegend\": true, \"type\": \"scatter3d\", \"x\": [39.0, 31.0, 40.0, 38.0, 39.0, 31.0, 29.0, 32.0, 35.0, 32.0, 32.0, 28.0, 32.0, 34.0, 39.0, 38.0, 27.0, 30.0, 30.0, 29.0, 31.0, 36.0, 33.0, 32.0, 28.0, 36.0, 30.0, 27.0, 35.0, 32.0, 29.0, 30.0, 28.0, 36.0, 32.0, 38.0, 35.0, 32.0, 30.0], \"y\": [91.0, 77.0, 95.0, 75.0, 75.0, 71.0, 88.0, 73.0, 72.0, 93.0, 87.0, 97.0, 74.0, 90.0, 88.0, 76.0, 89.0, 78.0, 73.0, 83.0, 93.0, 75.0, 95.0, 63.0, 75.0, 92.0, 86.0, 69.0, 90.0, 86.0, 88.0, 97.0, 68.0, 85.0, 69.0, 91.0, 79.0, 74.0, 83.0], \"z\": [69.0, 70.0, 71.0, 71.0, 71.0, 72.0, 73.0, 73.0, 74.0, 75.0, 76.0, 77.0, 77.0, 78.0, 78.0, 78.0, 78.0, 78.0, 78.0, 79.0, 81.0, 85.0, 86.0, 87.0, 87.0, 87.0, 88.0, 88.0, 93.0, 97.0, 98.0, 99.0, 101.0, 103.0, 103.0, 113.0, 120.0, 126.0, 137.0]}, {\"hovertemplate\": \"class=%{marker.color}<br>age=%{x}<br>spending_score=%{y}<br>annual_income=%{z}<extra></extra>\", \"legendgroup\": \"3\", \"marker\": {\"color\": [3, 3, 3, 3, 3, 3, 3, 3, 3, 3, 3, 3, 3, 3, 3, 3, 3, 3, 3, 3, 3, 3, 3, 3, 3, 3, 3, 3, 3, 3, 3, 3, 3, 3, 3, 3], \"coloraxis\": \"coloraxis\", \"symbol\": \"cross\"}, \"mode\": \"markers\", \"name\": \"3\", \"scene\": \"scene\", \"showlegend\": true, \"type\": \"scatter3d\", \"x\": [23.0, 59.0, 47.0, 25.0, 20.0, 44.0, 19.0, 57.0, 25.0, 48.0, 34.0, 43.0, 44.0, 47.0, 37.0, 34.0, 56.0, 19.0, 50.0, 42.0, 36.0, 40.0, 36.0, 52.0, 58.0, 59.0, 37.0, 46.0, 41.0, 54.0, 41.0, 34.0, 33.0, 47.0, 45.0, 32.0], \"y\": [29.0, 11.0, 9.0, 34.0, 5.0, 7.0, 10.0, 5.0, 12.0, 36.0, 22.0, 17.0, 20.0, 16.0, 1.0, 1.0, 35.0, 5.0, 26.0, 20.0, 27.0, 13.0, 10.0, 13.0, 15.0, 14.0, 32.0, 15.0, 39.0, 24.0, 17.0, 23.0, 8.0, 16.0, 28.0, 18.0], \"z\": [70.0, 71.0, 71.0, 72.0, 73.0, 73.0, 74.0, 75.0, 77.0, 77.0, 78.0, 78.0, 78.0, 78.0, 78.0, 78.0, 79.0, 81.0, 85.0, 86.0, 87.0, 87.0, 87.0, 88.0, 88.0, 93.0, 97.0, 98.0, 99.0, 101.0, 103.0, 103.0, 113.0, 120.0, 126.0, 137.0]}],                        {\"coloraxis\": {\"colorbar\": {\"title\": {\"text\": \"class\"}}, \"colorscale\": [[0.0, \"#0d0887\"], [0.1111111111111111, \"#46039f\"], [0.2222222222222222, \"#7201a8\"], [0.3333333333333333, \"#9c179e\"], [0.4444444444444444, \"#bd3786\"], [0.5555555555555556, \"#d8576b\"], [0.6666666666666666, \"#ed7953\"], [0.7777777777777778, \"#fb9f3a\"], [0.8888888888888888, \"#fdca26\"], [1.0, \"#f0f921\"]]}, \"legend\": {\"title\": {\"text\": \"class\"}, \"tracegroupgap\": 0, \"x\": 0, \"y\": 1}, \"margin\": {\"t\": 60}, \"scene\": {\"domain\": {\"x\": [0.0, 1.0], \"y\": [0.0, 1.0]}, \"xaxis\": {\"title\": {\"text\": \"age\"}}, \"yaxis\": {\"title\": {\"text\": \"spending_score\"}}, \"zaxis\": {\"title\": {\"text\": \"annual_income\"}}}, \"template\": {\"data\": {\"bar\": [{\"error_x\": {\"color\": \"#2a3f5f\"}, \"error_y\": {\"color\": \"#2a3f5f\"}, \"marker\": {\"line\": {\"color\": \"#E5ECF6\", \"width\": 0.5}}, \"type\": \"bar\"}], \"barpolar\": [{\"marker\": {\"line\": {\"color\": \"#E5ECF6\", \"width\": 0.5}}, \"type\": \"barpolar\"}], \"carpet\": [{\"aaxis\": {\"endlinecolor\": \"#2a3f5f\", \"gridcolor\": \"white\", \"linecolor\": \"white\", \"minorgridcolor\": \"white\", \"startlinecolor\": \"#2a3f5f\"}, \"baxis\": {\"endlinecolor\": \"#2a3f5f\", \"gridcolor\": \"white\", \"linecolor\": \"white\", \"minorgridcolor\": \"white\", \"startlinecolor\": \"#2a3f5f\"}, \"type\": \"carpet\"}], \"choropleth\": [{\"colorbar\": {\"outlinewidth\": 0, \"ticks\": \"\"}, \"type\": \"choropleth\"}], \"contour\": [{\"colorbar\": {\"outlinewidth\": 0, \"ticks\": \"\"}, \"colorscale\": [[0.0, \"#0d0887\"], [0.1111111111111111, \"#46039f\"], [0.2222222222222222, \"#7201a8\"], [0.3333333333333333, \"#9c179e\"], [0.4444444444444444, \"#bd3786\"], [0.5555555555555556, \"#d8576b\"], [0.6666666666666666, \"#ed7953\"], [0.7777777777777778, \"#fb9f3a\"], [0.8888888888888888, \"#fdca26\"], [1.0, \"#f0f921\"]], \"type\": \"contour\"}], \"contourcarpet\": [{\"colorbar\": {\"outlinewidth\": 0, \"ticks\": \"\"}, \"type\": \"contourcarpet\"}], \"heatmap\": [{\"colorbar\": {\"outlinewidth\": 0, \"ticks\": \"\"}, \"colorscale\": [[0.0, \"#0d0887\"], [0.1111111111111111, \"#46039f\"], [0.2222222222222222, \"#7201a8\"], [0.3333333333333333, \"#9c179e\"], [0.4444444444444444, \"#bd3786\"], [0.5555555555555556, \"#d8576b\"], [0.6666666666666666, \"#ed7953\"], [0.7777777777777778, \"#fb9f3a\"], [0.8888888888888888, \"#fdca26\"], [1.0, \"#f0f921\"]], \"type\": \"heatmap\"}], \"heatmapgl\": [{\"colorbar\": {\"outlinewidth\": 0, \"ticks\": \"\"}, \"colorscale\": [[0.0, \"#0d0887\"], [0.1111111111111111, \"#46039f\"], [0.2222222222222222, \"#7201a8\"], [0.3333333333333333, \"#9c179e\"], [0.4444444444444444, \"#bd3786\"], [0.5555555555555556, \"#d8576b\"], [0.6666666666666666, \"#ed7953\"], [0.7777777777777778, \"#fb9f3a\"], [0.8888888888888888, \"#fdca26\"], [1.0, \"#f0f921\"]], \"type\": \"heatmapgl\"}], \"histogram\": [{\"marker\": {\"colorbar\": {\"outlinewidth\": 0, \"ticks\": \"\"}}, \"type\": \"histogram\"}], \"histogram2d\": [{\"colorbar\": {\"outlinewidth\": 0, \"ticks\": \"\"}, \"colorscale\": [[0.0, \"#0d0887\"], [0.1111111111111111, \"#46039f\"], [0.2222222222222222, \"#7201a8\"], [0.3333333333333333, \"#9c179e\"], [0.4444444444444444, \"#bd3786\"], [0.5555555555555556, \"#d8576b\"], [0.6666666666666666, \"#ed7953\"], [0.7777777777777778, \"#fb9f3a\"], [0.8888888888888888, \"#fdca26\"], [1.0, \"#f0f921\"]], \"type\": \"histogram2d\"}], \"histogram2dcontour\": [{\"colorbar\": {\"outlinewidth\": 0, \"ticks\": \"\"}, \"colorscale\": [[0.0, \"#0d0887\"], [0.1111111111111111, \"#46039f\"], [0.2222222222222222, \"#7201a8\"], [0.3333333333333333, \"#9c179e\"], [0.4444444444444444, \"#bd3786\"], [0.5555555555555556, \"#d8576b\"], [0.6666666666666666, \"#ed7953\"], [0.7777777777777778, \"#fb9f3a\"], [0.8888888888888888, \"#fdca26\"], [1.0, \"#f0f921\"]], \"type\": \"histogram2dcontour\"}], \"mesh3d\": [{\"colorbar\": {\"outlinewidth\": 0, \"ticks\": \"\"}, \"type\": \"mesh3d\"}], \"parcoords\": [{\"line\": {\"colorbar\": {\"outlinewidth\": 0, \"ticks\": \"\"}}, \"type\": \"parcoords\"}], \"pie\": [{\"automargin\": true, \"type\": \"pie\"}], \"scatter\": [{\"marker\": {\"colorbar\": {\"outlinewidth\": 0, \"ticks\": \"\"}}, \"type\": \"scatter\"}], \"scatter3d\": [{\"line\": {\"colorbar\": {\"outlinewidth\": 0, \"ticks\": \"\"}}, \"marker\": {\"colorbar\": {\"outlinewidth\": 0, \"ticks\": \"\"}}, \"type\": \"scatter3d\"}], \"scattercarpet\": [{\"marker\": {\"colorbar\": {\"outlinewidth\": 0, \"ticks\": \"\"}}, \"type\": \"scattercarpet\"}], \"scattergeo\": [{\"marker\": {\"colorbar\": {\"outlinewidth\": 0, \"ticks\": \"\"}}, \"type\": \"scattergeo\"}], \"scattergl\": [{\"marker\": {\"colorbar\": {\"outlinewidth\": 0, \"ticks\": \"\"}}, \"type\": \"scattergl\"}], \"scattermapbox\": [{\"marker\": {\"colorbar\": {\"outlinewidth\": 0, \"ticks\": \"\"}}, \"type\": \"scattermapbox\"}], \"scatterpolar\": [{\"marker\": {\"colorbar\": {\"outlinewidth\": 0, \"ticks\": \"\"}}, \"type\": \"scatterpolar\"}], \"scatterpolargl\": [{\"marker\": {\"colorbar\": {\"outlinewidth\": 0, \"ticks\": \"\"}}, \"type\": \"scatterpolargl\"}], \"scatterternary\": [{\"marker\": {\"colorbar\": {\"outlinewidth\": 0, \"ticks\": \"\"}}, \"type\": \"scatterternary\"}], \"surface\": [{\"colorbar\": {\"outlinewidth\": 0, \"ticks\": \"\"}, \"colorscale\": [[0.0, \"#0d0887\"], [0.1111111111111111, \"#46039f\"], [0.2222222222222222, \"#7201a8\"], [0.3333333333333333, \"#9c179e\"], [0.4444444444444444, \"#bd3786\"], [0.5555555555555556, \"#d8576b\"], [0.6666666666666666, \"#ed7953\"], [0.7777777777777778, \"#fb9f3a\"], [0.8888888888888888, \"#fdca26\"], [1.0, \"#f0f921\"]], \"type\": \"surface\"}], \"table\": [{\"cells\": {\"fill\": {\"color\": \"#EBF0F8\"}, \"line\": {\"color\": \"white\"}}, \"header\": {\"fill\": {\"color\": \"#C8D4E3\"}, \"line\": {\"color\": \"white\"}}, \"type\": \"table\"}]}, \"layout\": {\"annotationdefaults\": {\"arrowcolor\": \"#2a3f5f\", \"arrowhead\": 0, \"arrowwidth\": 1}, \"coloraxis\": {\"colorbar\": {\"outlinewidth\": 0, \"ticks\": \"\"}}, \"colorscale\": {\"diverging\": [[0, \"#8e0152\"], [0.1, \"#c51b7d\"], [0.2, \"#de77ae\"], [0.3, \"#f1b6da\"], [0.4, \"#fde0ef\"], [0.5, \"#f7f7f7\"], [0.6, \"#e6f5d0\"], [0.7, \"#b8e186\"], [0.8, \"#7fbc41\"], [0.9, \"#4d9221\"], [1, \"#276419\"]], \"sequential\": [[0.0, \"#0d0887\"], [0.1111111111111111, \"#46039f\"], [0.2222222222222222, \"#7201a8\"], [0.3333333333333333, \"#9c179e\"], [0.4444444444444444, \"#bd3786\"], [0.5555555555555556, \"#d8576b\"], [0.6666666666666666, \"#ed7953\"], [0.7777777777777778, \"#fb9f3a\"], [0.8888888888888888, \"#fdca26\"], [1.0, \"#f0f921\"]], \"sequentialminus\": [[0.0, \"#0d0887\"], [0.1111111111111111, \"#46039f\"], [0.2222222222222222, \"#7201a8\"], [0.3333333333333333, \"#9c179e\"], [0.4444444444444444, \"#bd3786\"], [0.5555555555555556, \"#d8576b\"], [0.6666666666666666, \"#ed7953\"], [0.7777777777777778, \"#fb9f3a\"], [0.8888888888888888, \"#fdca26\"], [1.0, \"#f0f921\"]]}, \"colorway\": [\"#636efa\", \"#EF553B\", \"#00cc96\", \"#ab63fa\", \"#FFA15A\", \"#19d3f3\", \"#FF6692\", \"#B6E880\", \"#FF97FF\", \"#FECB52\"], \"font\": {\"color\": \"#2a3f5f\"}, \"geo\": {\"bgcolor\": \"white\", \"lakecolor\": \"white\", \"landcolor\": \"#E5ECF6\", \"showlakes\": true, \"showland\": true, \"subunitcolor\": \"white\"}, \"hoverlabel\": {\"align\": \"left\"}, \"hovermode\": \"closest\", \"mapbox\": {\"style\": \"light\"}, \"paper_bgcolor\": \"white\", \"plot_bgcolor\": \"#E5ECF6\", \"polar\": {\"angularaxis\": {\"gridcolor\": \"white\", \"linecolor\": \"white\", \"ticks\": \"\"}, \"bgcolor\": \"#E5ECF6\", \"radialaxis\": {\"gridcolor\": \"white\", \"linecolor\": \"white\", \"ticks\": \"\"}}, \"scene\": {\"xaxis\": {\"backgroundcolor\": \"#E5ECF6\", \"gridcolor\": \"white\", \"gridwidth\": 2, \"linecolor\": \"white\", \"showbackground\": true, \"ticks\": \"\", \"zerolinecolor\": \"white\"}, \"yaxis\": {\"backgroundcolor\": \"#E5ECF6\", \"gridcolor\": \"white\", \"gridwidth\": 2, \"linecolor\": \"white\", \"showbackground\": true, \"ticks\": \"\", \"zerolinecolor\": \"white\"}, \"zaxis\": {\"backgroundcolor\": \"#E5ECF6\", \"gridcolor\": \"white\", \"gridwidth\": 2, \"linecolor\": \"white\", \"showbackground\": true, \"ticks\": \"\", \"zerolinecolor\": \"white\"}}, \"shapedefaults\": {\"line\": {\"color\": \"#2a3f5f\"}}, \"ternary\": {\"aaxis\": {\"gridcolor\": \"white\", \"linecolor\": \"white\", \"ticks\": \"\"}, \"baxis\": {\"gridcolor\": \"white\", \"linecolor\": \"white\", \"ticks\": \"\"}, \"bgcolor\": \"#E5ECF6\", \"caxis\": {\"gridcolor\": \"white\", \"linecolor\": \"white\", \"ticks\": \"\"}}, \"title\": {\"x\": 0.05}, \"xaxis\": {\"automargin\": true, \"gridcolor\": \"white\", \"linecolor\": \"white\", \"ticks\": \"\", \"title\": {\"standoff\": 15}, \"zerolinecolor\": \"white\", \"zerolinewidth\": 2}, \"yaxis\": {\"automargin\": true, \"gridcolor\": \"white\", \"linecolor\": \"white\", \"ticks\": \"\", \"title\": {\"standoff\": 15}, \"zerolinecolor\": \"white\", \"zerolinewidth\": 2}}}, \"width\": 800},                        {\"responsive\": true}                    ).then(function(){\n",
       "                            \n",
       "var gd = document.getElementById('a45fcdff-11bb-4b6a-9472-423730976575');\n",
       "var x = new MutationObserver(function (mutations, observer) {{\n",
       "        var display = window.getComputedStyle(gd).display;\n",
       "        if (!display || display === 'none') {{\n",
       "            console.log([gd, 'removed!']);\n",
       "            Plotly.purge(gd);\n",
       "            observer.disconnect();\n",
       "        }}\n",
       "}});\n",
       "\n",
       "// Listen for the removal of the full notebook cells\n",
       "var notebookContainer = gd.closest('#notebook-container');\n",
       "if (notebookContainer) {{\n",
       "    x.observe(notebookContainer, {childList: true});\n",
       "}}\n",
       "\n",
       "// Listen for the clearing of the current output cell\n",
       "var outputEl = gd.closest('.output');\n",
       "if (outputEl) {{\n",
       "    x.observe(outputEl, {childList: true});\n",
       "}}\n",
       "\n",
       "                        })                };                });            </script>        </div>"
      ]
     },
     "metadata": {},
     "output_type": "display_data"
    }
   ],
   "source": [
    "# Plot the 3D-scatter with x=\"Annual Income\", y=\"Spending Score (1-100)\" and z=\"Age\"\n",
    "fig = px.scatter_3d(\n",
    "    five_clusters,\n",
    "    x=\"age\",\n",
    "    y=\"spending_score\",\n",
    "    z=\"annual_income\",\n",
    "    color=\"class\",\n",
    "    symbol=\"class\",\n",
    "    width=800,\n",
    ")\n",
    "fig.update_layout(legend=dict(x=0, y=1))\n",
    "fig.show()"
   ]
  },
  {
   "cell_type": "code",
   "execution_count": 21,
   "metadata": {
    "scrolled": true
   },
   "outputs": [
    {
     "data": {},
     "metadata": {},
     "output_type": "display_data"
    },
    {
     "data": {
      "application/vnd.holoviews_exec.v0+json": "",
      "text/html": [
       "<div id='2384'>\n",
       "\n",
       "\n",
       "\n",
       "\n",
       "\n",
       "  <div class=\"bk-root\" id=\"fdbc64e6-266f-4450-b8c1-422751163277\" data-root-id=\"2384\"></div>\n",
       "</div>\n",
       "<script type=\"application/javascript\">(function(root) {\n",
       "  function embed_document(root) {\n",
       "  var docs_json = {\"5128ad85-1167-474d-99d7-c7d0445c07ca\":{\"roots\":{\"references\":[{\"attributes\":{\"fill_alpha\":{\"value\":0.2},\"fill_color\":{\"value\":\"#1f77b3\"},\"line_alpha\":{\"value\":0.2},\"line_color\":{\"value\":\"#1f77b3\"},\"size\":{\"units\":\"screen\",\"value\":5.477225575051661},\"x\":{\"field\":\"annual_income\"},\"y\":{\"field\":\"spending_score\"}},\"id\":\"2433\",\"type\":\"Scatter\"},{\"attributes\":{\"fill_alpha\":{\"value\":0.2},\"fill_color\":{\"value\":\"#ff7e0e\"},\"line_alpha\":{\"value\":0.2},\"line_color\":{\"value\":\"#ff7e0e\"},\"size\":{\"units\":\"screen\",\"value\":5.477225575051661},\"x\":{\"field\":\"annual_income\"},\"y\":{\"field\":\"spending_score\"}},\"id\":\"2451\",\"type\":\"Scatter\"},{\"attributes\":{},\"id\":\"2424\",\"type\":\"BasicTickFormatter\"},{\"attributes\":{\"margin\":[5,5,5,5],\"name\":\"HSpacer04887\",\"sizing_mode\":\"stretch_width\"},\"id\":\"2723\",\"type\":\"Spacer\"},{\"attributes\":{\"bottom_units\":\"screen\",\"fill_alpha\":0.5,\"fill_color\":\"lightgrey\",\"left_units\":\"screen\",\"level\":\"overlay\",\"line_alpha\":1.0,\"line_color\":\"black\",\"line_dash\":[4,4],\"line_width\":2,\"right_units\":\"screen\",\"top_units\":\"screen\"},\"id\":\"2416\",\"type\":\"BoxAnnotation\"},{\"attributes\":{\"data_source\":{\"id\":\"2486\"},\"glyph\":{\"id\":\"2489\"},\"hover_glyph\":null,\"muted_glyph\":{\"id\":\"2491\"},\"nonselection_glyph\":{\"id\":\"2490\"},\"selection_glyph\":null,\"view\":{\"id\":\"2493\"}},\"id\":\"2492\",\"type\":\"GlyphRenderer\"},{\"attributes\":{},\"id\":\"2447\",\"type\":\"Selection\"},{\"attributes\":{},\"id\":\"2532\",\"type\":\"UnionRenderers\"},{\"attributes\":{\"data\":{\"annual_income\":{\"__ndarray__\":\"AAAAAAAALkAAAAAAAAAwQAAAAAAAADFAAAAAAAAAMkAAAAAAAAAzQAAAAAAAADNAAAAAAAAANEAAAAAAAAA0QAAAAAAAADVAAAAAAAAAN0AAAAAAAAA4QAAAAAAAADlAAAAAAAAAPEAAAAAAAAA8QAAAAAAAAD1AAAAAAAAAPkAAAAAAAIBAQAAAAAAAgEBAAAAAAAAAQUAAAAAAAIBCQAAAAAAAgENA\",\"dtype\":\"float64\",\"order\":\"little\",\"shape\":[21]},\"class\":[5,5,5,5,5,5,5,5,5,5,5,5,5,5,5,5,5,5,5,5,5],\"spending_score\":{\"__ndarray__\":\"AAAAAACAQ0AAAAAAAAAYQAAAAAAAAERAAAAAAAAAGEAAAAAAAAAIQAAAAAAAACxAAAAAAAAALkAAAAAAAAAqQAAAAAAAgEFAAAAAAAAAPUAAAAAAAIBBQAAAAAAAABRAAAAAAAAALEAAAAAAAABAQAAAAAAAAD9AAAAAAAAAEEAAAAAAAAAQQAAAAAAAACxAAAAAAAAAMUAAAAAAAAA6QAAAAAAAADxA\",\"dtype\":\"float64\",\"order\":\"little\",\"shape\":[21]}},\"selected\":{\"id\":\"2535\"},\"selection_policy\":{\"id\":\"2559\"}},\"id\":\"2534\",\"type\":\"ColumnDataSource\"},{\"attributes\":{\"align\":null,\"below\":[{\"id\":\"2403\"}],\"center\":[{\"id\":\"2406\"},{\"id\":\"2410\"}],\"left\":[{\"id\":\"2407\"}],\"margin\":null,\"min_border_bottom\":10,\"min_border_left\":10,\"min_border_right\":10,\"min_border_top\":10,\"plot_height\":300,\"plot_width\":700,\"renderers\":[{\"id\":\"2434\"},{\"id\":\"2452\"},{\"id\":\"2471\"},{\"id\":\"2492\"},{\"id\":\"2515\"},{\"id\":\"2540\"}],\"right\":[{\"id\":\"2444\"}],\"sizing_mode\":\"fixed\",\"title\":{\"id\":\"2395\"},\"toolbar\":{\"id\":\"2417\"},\"x_range\":{\"id\":\"2386\"},\"x_scale\":{\"id\":\"2399\"},\"y_range\":{\"id\":\"2387\"},\"y_scale\":{\"id\":\"2401\"}},\"id\":\"2394\",\"subtype\":\"Figure\",\"type\":\"Plot\"},{\"attributes\":{\"source\":{\"id\":\"2486\"}},\"id\":\"2493\",\"type\":\"CDSView\"},{\"attributes\":{\"axis\":{\"id\":\"2403\"},\"grid_line_color\":null,\"ticker\":null},\"id\":\"2406\",\"type\":\"Grid\"},{\"attributes\":{},\"id\":\"2411\",\"type\":\"SaveTool\"},{\"attributes\":{},\"id\":\"2535\",\"type\":\"Selection\"},{\"attributes\":{},\"id\":\"2415\",\"type\":\"ResetTool\"},{\"attributes\":{},\"id\":\"2463\",\"type\":\"UnionRenderers\"},{\"attributes\":{},\"id\":\"2413\",\"type\":\"WheelZoomTool\"},{\"attributes\":{\"fill_color\":{\"value\":\"#ff7e0e\"},\"line_color\":{\"value\":\"#ff7e0e\"},\"size\":{\"units\":\"screen\",\"value\":5.477225575051661},\"x\":{\"field\":\"annual_income\"},\"y\":{\"field\":\"spending_score\"}},\"id\":\"2449\",\"type\":\"Scatter\"},{\"attributes\":{},\"id\":\"2484\",\"type\":\"UnionRenderers\"},{\"attributes\":{\"fill_alpha\":{\"value\":0.1},\"fill_color\":{\"value\":\"#9367bc\"},\"line_alpha\":{\"value\":0.1},\"line_color\":{\"value\":\"#9367bc\"},\"size\":{\"units\":\"screen\",\"value\":5.477225575051661},\"x\":{\"field\":\"annual_income\"},\"y\":{\"field\":\"spending_score\"}},\"id\":\"2513\",\"type\":\"Scatter\"},{\"attributes\":{},\"id\":\"2399\",\"type\":\"LinearScale\"},{\"attributes\":{\"axis\":{\"id\":\"2407\"},\"dimension\":1,\"grid_line_color\":null,\"ticker\":null},\"id\":\"2410\",\"type\":\"Grid\"},{\"attributes\":{\"fill_alpha\":{\"value\":0.1},\"fill_color\":{\"value\":\"#8c564b\"},\"line_alpha\":{\"value\":0.1},\"line_color\":{\"value\":\"#8c564b\"},\"size\":{\"units\":\"screen\",\"value\":5.477225575051661},\"x\":{\"field\":\"annual_income\"},\"y\":{\"field\":\"spending_score\"}},\"id\":\"2538\",\"type\":\"Scatter\"},{\"attributes\":{\"fill_alpha\":{\"value\":0.1},\"fill_color\":{\"value\":\"#2ba02b\"},\"line_alpha\":{\"value\":0.1},\"line_color\":{\"value\":\"#2ba02b\"},\"size\":{\"units\":\"screen\",\"value\":5.477225575051661},\"x\":{\"field\":\"annual_income\"},\"y\":{\"field\":\"spending_score\"}},\"id\":\"2469\",\"type\":\"Scatter\"},{\"attributes\":{},\"id\":\"2487\",\"type\":\"Selection\"},{\"attributes\":{\"active_drag\":\"auto\",\"active_inspect\":\"auto\",\"active_multi\":null,\"active_scroll\":\"auto\",\"active_tap\":\"auto\",\"tools\":[{\"id\":\"2388\"},{\"id\":\"2411\"},{\"id\":\"2412\"},{\"id\":\"2413\"},{\"id\":\"2414\"},{\"id\":\"2415\"}]},\"id\":\"2417\",\"type\":\"Toolbar\"},{\"attributes\":{},\"id\":\"2510\",\"type\":\"Selection\"},{\"attributes\":{\"data_source\":{\"id\":\"2534\"},\"glyph\":{\"id\":\"2537\"},\"hover_glyph\":null,\"muted_glyph\":{\"id\":\"2539\"},\"nonselection_glyph\":{\"id\":\"2538\"},\"selection_glyph\":null,\"view\":{\"id\":\"2541\"}},\"id\":\"2540\",\"type\":\"GlyphRenderer\"},{\"attributes\":{\"text\":\"\",\"text_color\":{\"value\":\"black\"},\"text_font_size\":{\"value\":\"12pt\"}},\"id\":\"2395\",\"type\":\"Title\"},{\"attributes\":{},\"id\":\"2426\",\"type\":\"BasicTickFormatter\"},{\"attributes\":{},\"id\":\"2412\",\"type\":\"PanTool\"},{\"attributes\":{\"fill_color\":{\"value\":\"#8c564b\"},\"line_color\":{\"value\":\"#8c564b\"},\"size\":{\"units\":\"screen\",\"value\":5.477225575051661},\"x\":{\"field\":\"annual_income\"},\"y\":{\"field\":\"spending_score\"}},\"id\":\"2537\",\"type\":\"Scatter\"},{\"attributes\":{\"fill_alpha\":{\"value\":0.1},\"fill_color\":{\"value\":\"#1f77b3\"},\"line_alpha\":{\"value\":0.1},\"line_color\":{\"value\":\"#1f77b3\"},\"size\":{\"units\":\"screen\",\"value\":5.477225575051661},\"x\":{\"field\":\"annual_income\"},\"y\":{\"field\":\"spending_score\"}},\"id\":\"2432\",\"type\":\"Scatter\"},{\"attributes\":{\"data\":{\"annual_income\":{\"__ndarray__\":\"AAAAAAAAQ0AAAAAAAIBDQAAAAAAAAERAAAAAAAAARUAAAAAAAIBFQAAAAAAAgEVAAAAAAACARUAAAAAAAABGQAAAAAAAAEZAAAAAAAAAR0AAAAAAAABHQAAAAAAAgEdAAAAAAACAR0AAAAAAAABIQAAAAAAAAEhAAAAAAAAASEAAAAAAAIBIQAAAAAAAgEhAAAAAAAAASUAAAAAAAABJQAAAAAAAAEtAAAAAAAAAS0AAAAAAAABLQAAAAAAAAEtAAAAAAAAAS0AAAAAAAABLQAAAAAAAAEtAAAAAAACATEAAAAAAAABNQAAAAAAAgE1AAAAAAAAATkAAAAAAAABOQAAAAAAAgE5AAAAAAAAAT0AAAAAAAABPQAAAAAAAAE9AAAAAAACAT0AAAAAAAIBPQAAAAAAAgE9AAAAAAACAT0AAAAAAAIBPQAAAAAAAQFBAAAAAAABAUEAAAAAAAMBQQAAAAAAAwFBA\",\"dtype\":\"float64\",\"order\":\"little\",\"shape\":[45]},\"class\":[3,3,3,3,3,3,3,3,3,3,3,3,3,3,3,3,3,3,3,3,3,3,3,3,3,3,3,3,3,3,3,3,3,3,3,3,3,3,3,3,3,3,3,3,3],\"spending_score\":{\"__ndarray__\":\"AAAAAACAQUAAAAAAAABCQAAAAAAAgEtAAAAAAAAASkAAAAAAAABOQAAAAAAAgEZAAAAAAACAREAAAAAAAABJQAAAAAAAAEdAAAAAAAAAR0AAAAAAAABMQAAAAAAAAEpAAAAAAACATUAAAAAAAIBJQAAAAAAAAElAAAAAAAAASEAAAAAAAIBLQAAAAAAAAEVAAAAAAACASEAAAAAAAABMQAAAAAAAgEdAAAAAAACASkAAAAAAAABFQAAAAAAAgElAAAAAAACAREAAAAAAAABGQAAAAAAAAEdAAAAAAAAATUAAAAAAAABHQAAAAAAAgEtAAAAAAACASEAAAAAAAIBHQAAAAAAAAEVAAAAAAAAASEAAAAAAAIBNQAAAAAAAAExAAAAAAAAASUAAAAAAAABHQAAAAAAAgEVAAAAAAAAASEAAAAAAAABKQAAAAAAAgEVAAAAAAACATUAAAAAAAIBFQAAAAAAAgExA\",\"dtype\":\"float64\",\"order\":\"little\",\"shape\":[45]}},\"selected\":{\"id\":\"2487\"},\"selection_policy\":{\"id\":\"2507\"}},\"id\":\"2486\",\"type\":\"ColumnDataSource\"},{\"attributes\":{\"fill_alpha\":{\"value\":0.2},\"fill_color\":{\"value\":\"#8c564b\"},\"line_alpha\":{\"value\":0.2},\"line_color\":{\"value\":\"#8c564b\"},\"size\":{\"units\":\"screen\",\"value\":5.477225575051661},\"x\":{\"field\":\"annual_income\"},\"y\":{\"field\":\"spending_score\"}},\"id\":\"2539\",\"type\":\"Scatter\"},{\"attributes\":{},\"id\":\"2466\",\"type\":\"Selection\"},{\"attributes\":{\"label\":{\"value\":\"2\"},\"renderers\":[{\"id\":\"2471\"}]},\"id\":\"2485\",\"type\":\"LegendItem\"},{\"attributes\":{\"data_source\":{\"id\":\"2446\"},\"glyph\":{\"id\":\"2449\"},\"hover_glyph\":null,\"muted_glyph\":{\"id\":\"2451\"},\"nonselection_glyph\":{\"id\":\"2450\"},\"selection_glyph\":null,\"view\":{\"id\":\"2453\"}},\"id\":\"2452\",\"type\":\"GlyphRenderer\"},{\"attributes\":{\"fill_alpha\":{\"value\":0.1},\"fill_color\":{\"value\":\"#d62628\"},\"line_alpha\":{\"value\":0.1},\"line_color\":{\"value\":\"#d62628\"},\"size\":{\"units\":\"screen\",\"value\":5.477225575051661},\"x\":{\"field\":\"annual_income\"},\"y\":{\"field\":\"spending_score\"}},\"id\":\"2490\",\"type\":\"Scatter\"},{\"attributes\":{\"source\":{\"id\":\"2428\"}},\"id\":\"2435\",\"type\":\"CDSView\"},{\"attributes\":{\"label\":{\"value\":\"5\"},\"renderers\":[{\"id\":\"2540\"}]},\"id\":\"2560\",\"type\":\"LegendItem\"},{\"attributes\":{\"source\":{\"id\":\"2534\"}},\"id\":\"2541\",\"type\":\"CDSView\"},{\"attributes\":{\"data_source\":{\"id\":\"2428\"},\"glyph\":{\"id\":\"2431\"},\"hover_glyph\":null,\"muted_glyph\":{\"id\":\"2433\"},\"nonselection_glyph\":{\"id\":\"2432\"},\"selection_glyph\":null,\"view\":{\"id\":\"2435\"}},\"id\":\"2434\",\"type\":\"GlyphRenderer\"},{\"attributes\":{},\"id\":\"2401\",\"type\":\"LinearScale\"},{\"attributes\":{\"source\":{\"id\":\"2446\"}},\"id\":\"2453\",\"type\":\"CDSView\"},{\"attributes\":{},\"id\":\"2559\",\"type\":\"UnionRenderers\"},{\"attributes\":{\"fill_alpha\":{\"value\":0.2},\"fill_color\":{\"value\":\"#d62628\"},\"line_alpha\":{\"value\":0.2},\"line_color\":{\"value\":\"#d62628\"},\"size\":{\"units\":\"screen\",\"value\":5.477225575051661},\"x\":{\"field\":\"annual_income\"},\"y\":{\"field\":\"spending_score\"}},\"id\":\"2491\",\"type\":\"Scatter\"},{\"attributes\":{\"callback\":null,\"renderers\":[{\"id\":\"2434\"},{\"id\":\"2452\"},{\"id\":\"2471\"},{\"id\":\"2492\"},{\"id\":\"2515\"},{\"id\":\"2540\"}],\"tags\":[\"hv_created\"],\"tooltips\":[[\"class\",\"@{class}\"],[\"annual_income\",\"@{annual_income}\"],[\"spending_score\",\"@{spending_score}\"]]},\"id\":\"2388\",\"type\":\"HoverTool\"},{\"attributes\":{\"axis_label\":\"spending_score\",\"bounds\":\"auto\",\"formatter\":{\"id\":\"2426\"},\"major_label_orientation\":\"horizontal\",\"ticker\":{\"id\":\"2408\"}},\"id\":\"2407\",\"type\":\"LinearAxis\"},{\"attributes\":{},\"id\":\"2507\",\"type\":\"UnionRenderers\"},{\"attributes\":{},\"id\":\"2408\",\"type\":\"BasicTicker\"},{\"attributes\":{\"children\":[{\"id\":\"2385\"},{\"id\":\"2394\"},{\"id\":\"2723\"}],\"margin\":[0,0,0,0],\"name\":\"Row04882\",\"tags\":[\"embedded\"]},\"id\":\"2384\",\"type\":\"Row\"},{\"attributes\":{\"margin\":[5,5,5,5],\"name\":\"HSpacer04886\",\"sizing_mode\":\"stretch_width\"},\"id\":\"2385\",\"type\":\"Spacer\"},{\"attributes\":{},\"id\":\"2429\",\"type\":\"Selection\"},{\"attributes\":{\"data\":{\"annual_income\":{\"__ndarray__\":\"AAAAAADAUUAAAAAAAMBRQAAAAAAAwFFAAAAAAABAUkAAAAAAAEBSQAAAAAAAgFJAAAAAAADAUkAAAAAAAEBTQAAAAAAAQFNAAAAAAACAU0AAAAAAAIBTQAAAAAAAgFNAAAAAAACAU0AAAAAAAIBTQAAAAAAAgFNAAAAAAADAU0AAAAAAAEBUQAAAAAAAQFVAAAAAAACAVUAAAAAAAMBVQAAAAAAAwFVAAAAAAADAVUAAAAAAAABWQAAAAAAAAFZAAAAAAABAV0AAAAAAAEBYQAAAAAAAgFhAAAAAAADAWEAAAAAAAEBZQAAAAAAAwFlAAAAAAADAWUAAAAAAAEBcQAAAAAAAAF5AAAAAAACAX0AAAAAAACBhQA==\",\"dtype\":\"float64\",\"order\":\"little\",\"shape\":[35]},\"class\":[0,0,0,0,0,0,0,0,0,0,0,0,0,0,0,0,0,0,0,0,0,0,0,0,0,0,0,0,0,0,0,0,0,0,0],\"spending_score\":{\"__ndarray__\":\"AAAAAACAQUAAAAAAAAAmQAAAAAAAACJAAAAAAAAAFEAAAAAAAAAcQAAAAAAAACRAAAAAAAAAFEAAAAAAAAAoQAAAAAAAAEJAAAAAAAAANkAAAAAAAAAxQAAAAAAAADRAAAAAAAAAMEAAAAAAAADwPwAAAAAAAPA/AAAAAACAQUAAAAAAAAAUQAAAAAAAADpAAAAAAAAANEAAAAAAAAA7QAAAAAAAACpAAAAAAAAAJEAAAAAAAAAqQAAAAAAAAC5AAAAAAAAALEAAAAAAAABAQAAAAAAAAC5AAAAAAACAQ0AAAAAAAAA4QAAAAAAAADFAAAAAAAAAN0AAAAAAAAAgQAAAAAAAADBAAAAAAAAAPEAAAAAAAAAyQA==\",\"dtype\":\"float64\",\"order\":\"little\",\"shape\":[35]}},\"selected\":{\"id\":\"2429\"},\"selection_policy\":{\"id\":\"2443\"}},\"id\":\"2428\",\"type\":\"ColumnDataSource\"},{\"attributes\":{\"label\":{\"value\":\"3\"},\"renderers\":[{\"id\":\"2492\"}]},\"id\":\"2508\",\"type\":\"LegendItem\"},{\"attributes\":{\"data\":{\"annual_income\":{\"__ndarray__\":\"AAAAAABAUUAAAAAAAIBRQAAAAAAAwFFAAAAAAADAUUAAAAAAAMBRQAAAAAAAAFJAAAAAAABAUkAAAAAAAEBSQAAAAAAAgFJAAAAAAADAUkAAAAAAAABTQAAAAAAAQFNAAAAAAABAU0AAAAAAAIBTQAAAAAAAgFNAAAAAAACAU0AAAAAAAIBTQAAAAAAAgFNAAAAAAACAU0AAAAAAAMBTQAAAAAAAQFRAAAAAAABAVUAAAAAAAIBVQAAAAAAAwFVAAAAAAADAVUAAAAAAAMBVQAAAAAAAAFZAAAAAAAAAVkAAAAAAAEBXQAAAAAAAQFhAAAAAAACAWEAAAAAAAMBYQAAAAAAAQFlAAAAAAADAWUAAAAAAAMBZQAAAAAAAQFxAAAAAAAAAXkAAAAAAAIBfQAAAAAAAIGFA\",\"dtype\":\"float64\",\"order\":\"little\",\"shape\":[39]},\"class\":[1,1,1,1,1,1,1,1,1,1,1,1,1,1,1,1,1,1,1,1,1,1,1,1,1,1,1,1,1,1,1,1,1,1,1,1,1,1,1],\"spending_score\":{\"__ndarray__\":\"AAAAAADAVkAAAAAAAEBTQAAAAAAAwFdAAAAAAADAUkAAAAAAAMBSQAAAAAAAwFFAAAAAAAAAVkAAAAAAAEBSQAAAAAAAAFJAAAAAAABAV0AAAAAAAMBVQAAAAAAAQFhAAAAAAACAUkAAAAAAAIBWQAAAAAAAAFZAAAAAAAAAU0AAAAAAAEBWQAAAAAAAgFNAAAAAAABAUkAAAAAAAMBUQAAAAAAAQFdAAAAAAADAUkAAAAAAAMBXQAAAAAAAgE9AAAAAAADAUkAAAAAAAABXQAAAAAAAgFVAAAAAAABAUUAAAAAAAIBWQAAAAAAAgFVAAAAAAAAAVkAAAAAAAEBYQAAAAAAAAFFAAAAAAABAVUAAAAAAAEBRQAAAAAAAwFZAAAAAAADAU0AAAAAAAIBSQAAAAAAAwFRA\",\"dtype\":\"float64\",\"order\":\"little\",\"shape\":[39]}},\"selected\":{\"id\":\"2447\"},\"selection_policy\":{\"id\":\"2463\"}},\"id\":\"2446\",\"type\":\"ColumnDataSource\"},{\"attributes\":{\"label\":{\"value\":\"4\"},\"renderers\":[{\"id\":\"2515\"}]},\"id\":\"2533\",\"type\":\"LegendItem\"},{\"attributes\":{\"fill_color\":{\"value\":\"#d62628\"},\"line_color\":{\"value\":\"#d62628\"},\"size\":{\"units\":\"screen\",\"value\":5.477225575051661},\"x\":{\"field\":\"annual_income\"},\"y\":{\"field\":\"spending_score\"}},\"id\":\"2489\",\"type\":\"Scatter\"},{\"attributes\":{\"end\":108.8,\"reset_end\":108.8,\"reset_start\":-8.8,\"start\":-8.8,\"tags\":[[[\"spending_score\",\"spending_score\",null]]]},\"id\":\"2387\",\"type\":\"Range1d\"},{\"attributes\":{\"end\":142.22857142857143,\"reset_end\":142.22857142857143,\"reset_start\":9.771428571428572,\"start\":9.771428571428572,\"tags\":[[[\"annual_income\",\"annual_income\",null]]]},\"id\":\"2386\",\"type\":\"Range1d\"},{\"attributes\":{},\"id\":\"2404\",\"type\":\"BasicTicker\"},{\"attributes\":{\"fill_color\":{\"value\":\"#9367bc\"},\"line_color\":{\"value\":\"#9367bc\"},\"size\":{\"units\":\"screen\",\"value\":5.477225575051661},\"x\":{\"field\":\"annual_income\"},\"y\":{\"field\":\"spending_score\"}},\"id\":\"2512\",\"type\":\"Scatter\"},{\"attributes\":{\"fill_alpha\":{\"value\":0.2},\"fill_color\":{\"value\":\"#2ba02b\"},\"line_alpha\":{\"value\":0.2},\"line_color\":{\"value\":\"#2ba02b\"},\"size\":{\"units\":\"screen\",\"value\":5.477225575051661},\"x\":{\"field\":\"annual_income\"},\"y\":{\"field\":\"spending_score\"}},\"id\":\"2470\",\"type\":\"Scatter\"},{\"attributes\":{\"source\":{\"id\":\"2509\"}},\"id\":\"2516\",\"type\":\"CDSView\"},{\"attributes\":{\"label\":{\"value\":\"0\"},\"renderers\":[{\"id\":\"2434\"}]},\"id\":\"2445\",\"type\":\"LegendItem\"},{\"attributes\":{\"fill_alpha\":{\"value\":0.1},\"fill_color\":{\"value\":\"#ff7e0e\"},\"line_alpha\":{\"value\":0.1},\"line_color\":{\"value\":\"#ff7e0e\"},\"size\":{\"units\":\"screen\",\"value\":5.477225575051661},\"x\":{\"field\":\"annual_income\"},\"y\":{\"field\":\"spending_score\"}},\"id\":\"2450\",\"type\":\"Scatter\"},{\"attributes\":{\"click_policy\":\"mute\",\"items\":[{\"id\":\"2445\"},{\"id\":\"2464\"},{\"id\":\"2485\"},{\"id\":\"2508\"},{\"id\":\"2533\"},{\"id\":\"2560\"}],\"location\":[0,0],\"title\":\"class\"},\"id\":\"2444\",\"type\":\"Legend\"},{\"attributes\":{\"data_source\":{\"id\":\"2465\"},\"glyph\":{\"id\":\"2468\"},\"hover_glyph\":null,\"muted_glyph\":{\"id\":\"2470\"},\"nonselection_glyph\":{\"id\":\"2469\"},\"selection_glyph\":null,\"view\":{\"id\":\"2472\"}},\"id\":\"2471\",\"type\":\"GlyphRenderer\"},{\"attributes\":{\"data\":{\"annual_income\":{\"__ndarray__\":\"AAAAAACAQ0AAAAAAAABEQAAAAAAAAERAAAAAAAAAREAAAAAAAABFQAAAAAAAgEVAAAAAAAAAR0AAAAAAAABHQAAAAAAAAEhAAAAAAAAASEAAAAAAAABIQAAAAAAAAEtAAAAAAAAAS0AAAAAAAABLQAAAAAAAAEtAAAAAAAAAS0AAAAAAAIBMQAAAAAAAAE1AAAAAAACATUAAAAAAAABOQAAAAAAAAE5AAAAAAAAATkAAAAAAAABOQAAAAAAAgE5AAAAAAAAAT0AAAAAAAABPQAAAAAAAAE9AAAAAAACAT0AAAAAAAABQQAAAAAAAAFBAAAAAAABAUEAAAAAAAEBQQAAAAAAAwFBAAAAAAADAUEAAAAAAAEBRQAAAAAAAgFFAAAAAAAAAUkAAAAAAAABTQA==\",\"dtype\":\"float64\",\"order\":\"little\",\"shape\":[38]},\"class\":[2,2,2,2,2,2,2,2,2,2,2,2,2,2,2,2,2,2,2,2,2,2,2,2,2,2,2,2,2,2,2,2,2,2,2,2,2,2],\"spending_score\":{\"__ndarray__\":\"AAAAAACATkAAAAAAAIBHQAAAAAAAAEVAAAAAAAAARUAAAAAAAABOQAAAAAAAAEtAAAAAAACASUAAAAAAAIBLQAAAAAAAgE1AAAAAAACATUAAAAAAAIBHQAAAAAAAAEtAAAAAAAAASEAAAAAAAABKQAAAAAAAgEtAAAAAAACATEAAAAAAAIBLQAAAAAAAAE5AAAAAAACAREAAAAAAAABEQAAAAAAAAEVAAAAAAAAASkAAAAAAAABJQAAAAAAAgEhAAAAAAACAREAAAAAAAIBLQAAAAAAAAEVAAAAAAAAAS0AAAAAAAABFQAAAAAAAAEdAAAAAAAAASEAAAAAAAABJQAAAAAAAAExAAAAAAAAAREAAAAAAAABNQAAAAAAAAD1AAAAAAAAAQUAAAAAAAABEQA==\",\"dtype\":\"float64\",\"order\":\"little\",\"shape\":[38]}},\"selected\":{\"id\":\"2466\"},\"selection_policy\":{\"id\":\"2484\"}},\"id\":\"2465\",\"type\":\"ColumnDataSource\"},{\"attributes\":{},\"id\":\"2443\",\"type\":\"UnionRenderers\"},{\"attributes\":{\"data\":{\"annual_income\":{\"__ndarray__\":\"AAAAAAAALkAAAAAAAAAwQAAAAAAAADFAAAAAAAAAMkAAAAAAAAAzQAAAAAAAADNAAAAAAAAANEAAAAAAAAA0QAAAAAAAADVAAAAAAAAAN0AAAAAAAAA4QAAAAAAAADlAAAAAAAAAPEAAAAAAAAA8QAAAAAAAAD1AAAAAAAAAPkAAAAAAAIBAQAAAAAAAgEBAAAAAAAAAQUAAAAAAAIBCQAAAAAAAAENAAAAAAACAQ0A=\",\"dtype\":\"float64\",\"order\":\"little\",\"shape\":[22]},\"class\":[4,4,4,4,4,4,4,4,4,4,4,4,4,4,4,4,4,4,4,4,4,4],\"spending_score\":{\"__ndarray__\":\"AAAAAABAVEAAAAAAAEBTQAAAAAAAAFNAAAAAAACAV0AAAAAAAABSQAAAAAAAwFhAAAAAAABAU0AAAAAAAMBTQAAAAAAAgFBAAAAAAACAWEAAAAAAAEBSQAAAAAAAQFJAAAAAAACAVEAAAAAAAIBOQAAAAAAAwFVAAAAAAABAUkAAAAAAAABXQAAAAAAAQFRAAAAAAABAUkAAAAAAAMBSQAAAAAAAAFdAAAAAAABAUEA=\",\"dtype\":\"float64\",\"order\":\"little\",\"shape\":[22]}},\"selected\":{\"id\":\"2510\"},\"selection_policy\":{\"id\":\"2532\"}},\"id\":\"2509\",\"type\":\"ColumnDataSource\"},{\"attributes\":{\"fill_color\":{\"value\":\"#1f77b3\"},\"line_color\":{\"value\":\"#1f77b3\"},\"size\":{\"units\":\"screen\",\"value\":5.477225575051661},\"x\":{\"field\":\"annual_income\"},\"y\":{\"field\":\"spending_score\"}},\"id\":\"2431\",\"type\":\"Scatter\"},{\"attributes\":{\"overlay\":{\"id\":\"2416\"}},\"id\":\"2414\",\"type\":\"BoxZoomTool\"},{\"attributes\":{\"fill_color\":{\"value\":\"#2ba02b\"},\"line_color\":{\"value\":\"#2ba02b\"},\"size\":{\"units\":\"screen\",\"value\":5.477225575051661},\"x\":{\"field\":\"annual_income\"},\"y\":{\"field\":\"spending_score\"}},\"id\":\"2468\",\"type\":\"Scatter\"},{\"attributes\":{\"label\":{\"value\":\"1\"},\"renderers\":[{\"id\":\"2452\"}]},\"id\":\"2464\",\"type\":\"LegendItem\"},{\"attributes\":{\"fill_alpha\":{\"value\":0.2},\"fill_color\":{\"value\":\"#9367bc\"},\"line_alpha\":{\"value\":0.2},\"line_color\":{\"value\":\"#9367bc\"},\"size\":{\"units\":\"screen\",\"value\":5.477225575051661},\"x\":{\"field\":\"annual_income\"},\"y\":{\"field\":\"spending_score\"}},\"id\":\"2514\",\"type\":\"Scatter\"},{\"attributes\":{\"axis_label\":\"annual_income\",\"bounds\":\"auto\",\"formatter\":{\"id\":\"2424\"},\"major_label_orientation\":\"horizontal\",\"ticker\":{\"id\":\"2404\"}},\"id\":\"2403\",\"type\":\"LinearAxis\"},{\"attributes\":{\"data_source\":{\"id\":\"2509\"},\"glyph\":{\"id\":\"2512\"},\"hover_glyph\":null,\"muted_glyph\":{\"id\":\"2514\"},\"nonselection_glyph\":{\"id\":\"2513\"},\"selection_glyph\":null,\"view\":{\"id\":\"2516\"}},\"id\":\"2515\",\"type\":\"GlyphRenderer\"},{\"attributes\":{\"source\":{\"id\":\"2465\"}},\"id\":\"2472\",\"type\":\"CDSView\"}],\"root_ids\":[\"2384\"]},\"title\":\"Bokeh Application\",\"version\":\"2.1.0\"}};\n",
       "  var render_items = [{\"docid\":\"5128ad85-1167-474d-99d7-c7d0445c07ca\",\"root_ids\":[\"2384\"],\"roots\":{\"2384\":\"fdbc64e6-266f-4450-b8c1-422751163277\"}}];\n",
       "  root.Bokeh.embed.embed_items_notebook(docs_json, render_items);\n",
       "  }\n",
       "if (root.Bokeh !== undefined) {\n",
       "    embed_document(root);\n",
       "  } else {\n",
       "    var attempts = 0;\n",
       "    var timer = setInterval(function(root) {\n",
       "      if (root.Bokeh !== undefined) {\n",
       "        clearInterval(timer);\n",
       "        embed_document(root);\n",
       "      } else if (document.readyState == \"complete\") {\n",
       "        attempts++;\n",
       "        if (attempts > 100) {\n",
       "          clearInterval(timer);\n",
       "          console.log(\"Bokeh: ERROR: Unable to run BokehJS code because BokehJS library is missing\");\n",
       "        }\n",
       "      }\n",
       "    }, 10, root)\n",
       "  }\n",
       "})(window);</script>"
      ],
      "text/plain": [
       ":NdOverlay   [class]\n",
       "   :Scatter   [annual_income]   (spending_score)"
      ]
     },
     "execution_count": 21,
     "metadata": {
      "application/vnd.holoviews_exec.v0+json": {
       "id": "2384"
      }
     },
     "output_type": "execute_result"
    }
   ],
   "source": [
    "six_clusters.hvplot.scatter(x=\"annual_income\", y=\"spending_score\", by=\"class\")"
   ]
  },
  {
   "cell_type": "code",
   "execution_count": 22,
   "metadata": {},
   "outputs": [
    {
     "data": {
      "application/vnd.plotly.v1+json": {
       "config": {
        "plotlyServerURL": "https://plot.ly"
       },
       "data": [
        {
         "hovertemplate": "class=%{marker.color}<br>age=%{x}<br>spending_score=%{y}<br>annual_income=%{z}<extra></extra>",
         "legendgroup": "5",
         "marker": {
          "color": [
           5,
           5,
           5,
           5,
           5,
           5,
           5,
           5,
           5,
           5,
           5,
           5,
           5,
           5,
           5,
           5,
           5,
           5,
           5,
           5,
           5
          ],
          "coloraxis": "coloraxis",
          "symbol": "circle"
         },
         "mode": "markers",
         "name": "5",
         "scene": "scene",
         "showlegend": true,
         "type": "scatter3d",
         "x": [
          19,
          20,
          31,
          35,
          64,
          67,
          58,
          37,
          35,
          52,
          35,
          46,
          54,
          45,
          40,
          60,
          53,
          49,
          42,
          36,
          49
         ],
         "y": [
          39,
          6,
          40,
          6,
          3,
          14,
          15,
          13,
          35,
          29,
          35,
          5,
          14,
          32,
          31,
          4,
          4,
          14,
          17,
          26,
          28
         ],
         "z": [
          15,
          16,
          17,
          18,
          19,
          19,
          20,
          20,
          21,
          23,
          24,
          25,
          28,
          28,
          29,
          30,
          33,
          33,
          34,
          37,
          39
         ]
        },
        {
         "hovertemplate": "class=%{marker.color}<br>age=%{x}<br>spending_score=%{y}<br>annual_income=%{z}<extra></extra>",
         "legendgroup": "4",
         "marker": {
          "color": [
           4,
           4,
           4,
           4,
           4,
           4,
           4,
           4,
           4,
           4,
           4,
           4,
           4,
           4,
           4,
           4,
           4,
           4,
           4,
           4,
           4,
           4
          ],
          "coloraxis": "coloraxis",
          "symbol": "diamond"
         },
         "mode": "markers",
         "name": "4",
         "scene": "scene",
         "showlegend": true,
         "type": "scatter3d",
         "x": [
          21,
          23,
          22,
          23,
          30,
          35,
          24,
          22,
          20,
          35,
          25,
          31,
          29,
          35,
          23,
          21,
          18,
          21,
          30,
          20,
          24,
          24
         ],
         "y": [
          81,
          77,
          76,
          94,
          72,
          99,
          77,
          79,
          66,
          98,
          73,
          73,
          82,
          61,
          87,
          73,
          92,
          81,
          73,
          75,
          92,
          65
         ],
         "z": [
          15,
          16,
          17,
          18,
          19,
          19,
          20,
          20,
          21,
          23,
          24,
          25,
          28,
          28,
          29,
          30,
          33,
          33,
          34,
          37,
          38,
          39
         ]
        },
        {
         "hovertemplate": "class=%{marker.color}<br>age=%{x}<br>spending_score=%{y}<br>annual_income=%{z}<extra></extra>",
         "legendgroup": "3",
         "marker": {
          "color": [
           3,
           3,
           3,
           3,
           3,
           3,
           3,
           3,
           3,
           3,
           3,
           3,
           3,
           3,
           3,
           3,
           3,
           3,
           3,
           3,
           3,
           3,
           3,
           3,
           3,
           3,
           3,
           3,
           3,
           3,
           3,
           3,
           3,
           3,
           3,
           3,
           3,
           3,
           3,
           3,
           3,
           3,
           3,
           3,
           3
          ],
          "coloraxis": "coloraxis",
          "symbol": "square"
         },
         "mode": "markers",
         "name": "3",
         "scene": "scene",
         "showlegend": true,
         "type": "scatter3d",
         "x": [
          65,
          48,
          50,
          49,
          59,
          50,
          47,
          51,
          69,
          53,
          70,
          67,
          54,
          63,
          43,
          68,
          70,
          47,
          60,
          60,
          59,
          45,
          49,
          57,
          67,
          46,
          48,
          55,
          50,
          68,
          48,
          47,
          48,
          49,
          67,
          49,
          66,
          54,
          68,
          66,
          65,
          63,
          49,
          51,
          50
         ],
         "y": [
          35,
          36,
          55,
          52,
          60,
          45,
          41,
          50,
          46,
          46,
          56,
          52,
          59,
          51,
          50,
          48,
          55,
          42,
          49,
          56,
          47,
          53,
          42,
          51,
          41,
          44,
          46,
          58,
          46,
          55,
          49,
          47,
          42,
          48,
          59,
          56,
          50,
          46,
          43,
          48,
          52,
          43,
          59,
          43,
          57
         ],
         "z": [
          38,
          39,
          40,
          42,
          43,
          43,
          43,
          44,
          44,
          46,
          46,
          47,
          47,
          48,
          48,
          48,
          49,
          49,
          50,
          50,
          54,
          54,
          54,
          54,
          54,
          54,
          54,
          57,
          58,
          59,
          60,
          60,
          61,
          62,
          62,
          62,
          63,
          63,
          63,
          63,
          63,
          65,
          65,
          67,
          67
         ]
        },
        {
         "hovertemplate": "class=%{marker.color}<br>age=%{x}<br>spending_score=%{y}<br>annual_income=%{z}<extra></extra>",
         "legendgroup": "2",
         "marker": {
          "color": [
           2,
           2,
           2,
           2,
           2,
           2,
           2,
           2,
           2,
           2,
           2,
           2,
           2,
           2,
           2,
           2,
           2,
           2,
           2,
           2,
           2,
           2,
           2,
           2,
           2,
           2,
           2,
           2,
           2,
           2,
           2,
           2,
           2,
           2,
           2,
           2,
           2,
           2
          ],
          "coloraxis": "coloraxis",
          "symbol": "x"
         },
         "mode": "markers",
         "name": "2",
         "scene": "scene",
         "showlegend": true,
         "type": "scatter3d",
         "x": [
          31,
          27,
          29,
          31,
          33,
          31,
          27,
          19,
          18,
          19,
          32,
          26,
          40,
          23,
          38,
          21,
          22,
          34,
          18,
          40,
          32,
          24,
          27,
          20,
          23,
          26,
          21,
          19,
          38,
          19,
          18,
          19,
          27,
          38,
          40,
          23,
          25,
          28
         ],
         "y": [
          61,
          47,
          42,
          42,
          60,
          54,
          51,
          55,
          59,
          59,
          47,
          54,
          48,
          52,
          55,
          57,
          55,
          60,
          41,
          40,
          42,
          52,
          50,
          49,
          41,
          55,
          42,
          54,
          42,
          46,
          48,
          50,
          56,
          40,
          58,
          29,
          34,
          40
         ],
         "z": [
          39,
          40,
          40,
          40,
          42,
          43,
          46,
          46,
          48,
          48,
          48,
          54,
          54,
          54,
          54,
          54,
          57,
          58,
          59,
          60,
          60,
          60,
          60,
          61,
          62,
          62,
          62,
          63,
          64,
          64,
          65,
          65,
          67,
          67,
          69,
          70,
          72,
          76
         ]
        },
        {
         "hovertemplate": "class=%{marker.color}<br>age=%{x}<br>spending_score=%{y}<br>annual_income=%{z}<extra></extra>",
         "legendgroup": "1",
         "marker": {
          "color": [
           1,
           1,
           1,
           1,
           1,
           1,
           1,
           1,
           1,
           1,
           1,
           1,
           1,
           1,
           1,
           1,
           1,
           1,
           1,
           1,
           1,
           1,
           1,
           1,
           1,
           1,
           1,
           1,
           1,
           1,
           1,
           1,
           1,
           1,
           1,
           1,
           1,
           1,
           1
          ],
          "coloraxis": "coloraxis",
          "symbol": "cross"
         },
         "mode": "markers",
         "name": "1",
         "scene": "scene",
         "showlegend": true,
         "type": "scatter3d",
         "x": [
          39,
          31,
          40,
          38,
          39,
          31,
          29,
          32,
          35,
          32,
          32,
          28,
          32,
          34,
          39,
          38,
          27,
          30,
          30,
          29,
          31,
          36,
          33,
          32,
          28,
          36,
          30,
          27,
          35,
          32,
          29,
          30,
          28,
          36,
          32,
          38,
          35,
          32,
          30
         ],
         "y": [
          91,
          77,
          95,
          75,
          75,
          71,
          88,
          73,
          72,
          93,
          87,
          97,
          74,
          90,
          88,
          76,
          89,
          78,
          73,
          83,
          93,
          75,
          95,
          63,
          75,
          92,
          86,
          69,
          90,
          86,
          88,
          97,
          68,
          85,
          69,
          91,
          79,
          74,
          83
         ],
         "z": [
          69,
          70,
          71,
          71,
          71,
          72,
          73,
          73,
          74,
          75,
          76,
          77,
          77,
          78,
          78,
          78,
          78,
          78,
          78,
          79,
          81,
          85,
          86,
          87,
          87,
          87,
          88,
          88,
          93,
          97,
          98,
          99,
          101,
          103,
          103,
          113,
          120,
          126,
          137
         ]
        },
        {
         "hovertemplate": "class=%{marker.color}<br>age=%{x}<br>spending_score=%{y}<br>annual_income=%{z}<extra></extra>",
         "legendgroup": "0",
         "marker": {
          "color": [
           0,
           0,
           0,
           0,
           0,
           0,
           0,
           0,
           0,
           0,
           0,
           0,
           0,
           0,
           0,
           0,
           0,
           0,
           0,
           0,
           0,
           0,
           0,
           0,
           0,
           0,
           0,
           0,
           0,
           0,
           0,
           0,
           0,
           0,
           0
          ],
          "coloraxis": "coloraxis",
          "symbol": "circle"
         },
         "mode": "markers",
         "name": "0",
         "scene": "scene",
         "showlegend": true,
         "type": "scatter3d",
         "x": [
          43,
          59,
          47,
          20,
          44,
          19,
          57,
          25,
          48,
          34,
          43,
          44,
          47,
          37,
          34,
          56,
          19,
          50,
          42,
          36,
          40,
          36,
          52,
          58,
          59,
          37,
          46,
          41,
          54,
          41,
          34,
          33,
          47,
          45,
          32
         ],
         "y": [
          35,
          11,
          9,
          5,
          7,
          10,
          5,
          12,
          36,
          22,
          17,
          20,
          16,
          1,
          1,
          35,
          5,
          26,
          20,
          27,
          13,
          10,
          13,
          15,
          14,
          32,
          15,
          39,
          24,
          17,
          23,
          8,
          16,
          28,
          18
         ],
         "z": [
          71,
          71,
          71,
          73,
          73,
          74,
          75,
          77,
          77,
          78,
          78,
          78,
          78,
          78,
          78,
          79,
          81,
          85,
          86,
          87,
          87,
          87,
          88,
          88,
          93,
          97,
          98,
          99,
          101,
          103,
          103,
          113,
          120,
          126,
          137
         ]
        }
       ],
       "layout": {
        "coloraxis": {
         "colorbar": {
          "title": {
           "text": "class"
          }
         },
         "colorscale": [
          [
           0,
           "#0d0887"
          ],
          [
           0.1111111111111111,
           "#46039f"
          ],
          [
           0.2222222222222222,
           "#7201a8"
          ],
          [
           0.3333333333333333,
           "#9c179e"
          ],
          [
           0.4444444444444444,
           "#bd3786"
          ],
          [
           0.5555555555555556,
           "#d8576b"
          ],
          [
           0.6666666666666666,
           "#ed7953"
          ],
          [
           0.7777777777777778,
           "#fb9f3a"
          ],
          [
           0.8888888888888888,
           "#fdca26"
          ],
          [
           1,
           "#f0f921"
          ]
         ]
        },
        "legend": {
         "title": {
          "text": "class"
         },
         "tracegroupgap": 0,
         "x": 0,
         "y": 1
        },
        "margin": {
         "t": 60
        },
        "scene": {
         "domain": {
          "x": [
           0,
           1
          ],
          "y": [
           0,
           1
          ]
         },
         "xaxis": {
          "title": {
           "text": "age"
          }
         },
         "yaxis": {
          "title": {
           "text": "spending_score"
          }
         },
         "zaxis": {
          "title": {
           "text": "annual_income"
          }
         }
        },
        "template": {
         "data": {
          "bar": [
           {
            "error_x": {
             "color": "#2a3f5f"
            },
            "error_y": {
             "color": "#2a3f5f"
            },
            "marker": {
             "line": {
              "color": "#E5ECF6",
              "width": 0.5
             }
            },
            "type": "bar"
           }
          ],
          "barpolar": [
           {
            "marker": {
             "line": {
              "color": "#E5ECF6",
              "width": 0.5
             }
            },
            "type": "barpolar"
           }
          ],
          "carpet": [
           {
            "aaxis": {
             "endlinecolor": "#2a3f5f",
             "gridcolor": "white",
             "linecolor": "white",
             "minorgridcolor": "white",
             "startlinecolor": "#2a3f5f"
            },
            "baxis": {
             "endlinecolor": "#2a3f5f",
             "gridcolor": "white",
             "linecolor": "white",
             "minorgridcolor": "white",
             "startlinecolor": "#2a3f5f"
            },
            "type": "carpet"
           }
          ],
          "choropleth": [
           {
            "colorbar": {
             "outlinewidth": 0,
             "ticks": ""
            },
            "type": "choropleth"
           }
          ],
          "contour": [
           {
            "colorbar": {
             "outlinewidth": 0,
             "ticks": ""
            },
            "colorscale": [
             [
              0,
              "#0d0887"
             ],
             [
              0.1111111111111111,
              "#46039f"
             ],
             [
              0.2222222222222222,
              "#7201a8"
             ],
             [
              0.3333333333333333,
              "#9c179e"
             ],
             [
              0.4444444444444444,
              "#bd3786"
             ],
             [
              0.5555555555555556,
              "#d8576b"
             ],
             [
              0.6666666666666666,
              "#ed7953"
             ],
             [
              0.7777777777777778,
              "#fb9f3a"
             ],
             [
              0.8888888888888888,
              "#fdca26"
             ],
             [
              1,
              "#f0f921"
             ]
            ],
            "type": "contour"
           }
          ],
          "contourcarpet": [
           {
            "colorbar": {
             "outlinewidth": 0,
             "ticks": ""
            },
            "type": "contourcarpet"
           }
          ],
          "heatmap": [
           {
            "colorbar": {
             "outlinewidth": 0,
             "ticks": ""
            },
            "colorscale": [
             [
              0,
              "#0d0887"
             ],
             [
              0.1111111111111111,
              "#46039f"
             ],
             [
              0.2222222222222222,
              "#7201a8"
             ],
             [
              0.3333333333333333,
              "#9c179e"
             ],
             [
              0.4444444444444444,
              "#bd3786"
             ],
             [
              0.5555555555555556,
              "#d8576b"
             ],
             [
              0.6666666666666666,
              "#ed7953"
             ],
             [
              0.7777777777777778,
              "#fb9f3a"
             ],
             [
              0.8888888888888888,
              "#fdca26"
             ],
             [
              1,
              "#f0f921"
             ]
            ],
            "type": "heatmap"
           }
          ],
          "heatmapgl": [
           {
            "colorbar": {
             "outlinewidth": 0,
             "ticks": ""
            },
            "colorscale": [
             [
              0,
              "#0d0887"
             ],
             [
              0.1111111111111111,
              "#46039f"
             ],
             [
              0.2222222222222222,
              "#7201a8"
             ],
             [
              0.3333333333333333,
              "#9c179e"
             ],
             [
              0.4444444444444444,
              "#bd3786"
             ],
             [
              0.5555555555555556,
              "#d8576b"
             ],
             [
              0.6666666666666666,
              "#ed7953"
             ],
             [
              0.7777777777777778,
              "#fb9f3a"
             ],
             [
              0.8888888888888888,
              "#fdca26"
             ],
             [
              1,
              "#f0f921"
             ]
            ],
            "type": "heatmapgl"
           }
          ],
          "histogram": [
           {
            "marker": {
             "colorbar": {
              "outlinewidth": 0,
              "ticks": ""
             }
            },
            "type": "histogram"
           }
          ],
          "histogram2d": [
           {
            "colorbar": {
             "outlinewidth": 0,
             "ticks": ""
            },
            "colorscale": [
             [
              0,
              "#0d0887"
             ],
             [
              0.1111111111111111,
              "#46039f"
             ],
             [
              0.2222222222222222,
              "#7201a8"
             ],
             [
              0.3333333333333333,
              "#9c179e"
             ],
             [
              0.4444444444444444,
              "#bd3786"
             ],
             [
              0.5555555555555556,
              "#d8576b"
             ],
             [
              0.6666666666666666,
              "#ed7953"
             ],
             [
              0.7777777777777778,
              "#fb9f3a"
             ],
             [
              0.8888888888888888,
              "#fdca26"
             ],
             [
              1,
              "#f0f921"
             ]
            ],
            "type": "histogram2d"
           }
          ],
          "histogram2dcontour": [
           {
            "colorbar": {
             "outlinewidth": 0,
             "ticks": ""
            },
            "colorscale": [
             [
              0,
              "#0d0887"
             ],
             [
              0.1111111111111111,
              "#46039f"
             ],
             [
              0.2222222222222222,
              "#7201a8"
             ],
             [
              0.3333333333333333,
              "#9c179e"
             ],
             [
              0.4444444444444444,
              "#bd3786"
             ],
             [
              0.5555555555555556,
              "#d8576b"
             ],
             [
              0.6666666666666666,
              "#ed7953"
             ],
             [
              0.7777777777777778,
              "#fb9f3a"
             ],
             [
              0.8888888888888888,
              "#fdca26"
             ],
             [
              1,
              "#f0f921"
             ]
            ],
            "type": "histogram2dcontour"
           }
          ],
          "mesh3d": [
           {
            "colorbar": {
             "outlinewidth": 0,
             "ticks": ""
            },
            "type": "mesh3d"
           }
          ],
          "parcoords": [
           {
            "line": {
             "colorbar": {
              "outlinewidth": 0,
              "ticks": ""
             }
            },
            "type": "parcoords"
           }
          ],
          "pie": [
           {
            "automargin": true,
            "type": "pie"
           }
          ],
          "scatter": [
           {
            "marker": {
             "colorbar": {
              "outlinewidth": 0,
              "ticks": ""
             }
            },
            "type": "scatter"
           }
          ],
          "scatter3d": [
           {
            "line": {
             "colorbar": {
              "outlinewidth": 0,
              "ticks": ""
             }
            },
            "marker": {
             "colorbar": {
              "outlinewidth": 0,
              "ticks": ""
             }
            },
            "type": "scatter3d"
           }
          ],
          "scattercarpet": [
           {
            "marker": {
             "colorbar": {
              "outlinewidth": 0,
              "ticks": ""
             }
            },
            "type": "scattercarpet"
           }
          ],
          "scattergeo": [
           {
            "marker": {
             "colorbar": {
              "outlinewidth": 0,
              "ticks": ""
             }
            },
            "type": "scattergeo"
           }
          ],
          "scattergl": [
           {
            "marker": {
             "colorbar": {
              "outlinewidth": 0,
              "ticks": ""
             }
            },
            "type": "scattergl"
           }
          ],
          "scattermapbox": [
           {
            "marker": {
             "colorbar": {
              "outlinewidth": 0,
              "ticks": ""
             }
            },
            "type": "scattermapbox"
           }
          ],
          "scatterpolar": [
           {
            "marker": {
             "colorbar": {
              "outlinewidth": 0,
              "ticks": ""
             }
            },
            "type": "scatterpolar"
           }
          ],
          "scatterpolargl": [
           {
            "marker": {
             "colorbar": {
              "outlinewidth": 0,
              "ticks": ""
             }
            },
            "type": "scatterpolargl"
           }
          ],
          "scatterternary": [
           {
            "marker": {
             "colorbar": {
              "outlinewidth": 0,
              "ticks": ""
             }
            },
            "type": "scatterternary"
           }
          ],
          "surface": [
           {
            "colorbar": {
             "outlinewidth": 0,
             "ticks": ""
            },
            "colorscale": [
             [
              0,
              "#0d0887"
             ],
             [
              0.1111111111111111,
              "#46039f"
             ],
             [
              0.2222222222222222,
              "#7201a8"
             ],
             [
              0.3333333333333333,
              "#9c179e"
             ],
             [
              0.4444444444444444,
              "#bd3786"
             ],
             [
              0.5555555555555556,
              "#d8576b"
             ],
             [
              0.6666666666666666,
              "#ed7953"
             ],
             [
              0.7777777777777778,
              "#fb9f3a"
             ],
             [
              0.8888888888888888,
              "#fdca26"
             ],
             [
              1,
              "#f0f921"
             ]
            ],
            "type": "surface"
           }
          ],
          "table": [
           {
            "cells": {
             "fill": {
              "color": "#EBF0F8"
             },
             "line": {
              "color": "white"
             }
            },
            "header": {
             "fill": {
              "color": "#C8D4E3"
             },
             "line": {
              "color": "white"
             }
            },
            "type": "table"
           }
          ]
         },
         "layout": {
          "annotationdefaults": {
           "arrowcolor": "#2a3f5f",
           "arrowhead": 0,
           "arrowwidth": 1
          },
          "coloraxis": {
           "colorbar": {
            "outlinewidth": 0,
            "ticks": ""
           }
          },
          "colorscale": {
           "diverging": [
            [
             0,
             "#8e0152"
            ],
            [
             0.1,
             "#c51b7d"
            ],
            [
             0.2,
             "#de77ae"
            ],
            [
             0.3,
             "#f1b6da"
            ],
            [
             0.4,
             "#fde0ef"
            ],
            [
             0.5,
             "#f7f7f7"
            ],
            [
             0.6,
             "#e6f5d0"
            ],
            [
             0.7,
             "#b8e186"
            ],
            [
             0.8,
             "#7fbc41"
            ],
            [
             0.9,
             "#4d9221"
            ],
            [
             1,
             "#276419"
            ]
           ],
           "sequential": [
            [
             0,
             "#0d0887"
            ],
            [
             0.1111111111111111,
             "#46039f"
            ],
            [
             0.2222222222222222,
             "#7201a8"
            ],
            [
             0.3333333333333333,
             "#9c179e"
            ],
            [
             0.4444444444444444,
             "#bd3786"
            ],
            [
             0.5555555555555556,
             "#d8576b"
            ],
            [
             0.6666666666666666,
             "#ed7953"
            ],
            [
             0.7777777777777778,
             "#fb9f3a"
            ],
            [
             0.8888888888888888,
             "#fdca26"
            ],
            [
             1,
             "#f0f921"
            ]
           ],
           "sequentialminus": [
            [
             0,
             "#0d0887"
            ],
            [
             0.1111111111111111,
             "#46039f"
            ],
            [
             0.2222222222222222,
             "#7201a8"
            ],
            [
             0.3333333333333333,
             "#9c179e"
            ],
            [
             0.4444444444444444,
             "#bd3786"
            ],
            [
             0.5555555555555556,
             "#d8576b"
            ],
            [
             0.6666666666666666,
             "#ed7953"
            ],
            [
             0.7777777777777778,
             "#fb9f3a"
            ],
            [
             0.8888888888888888,
             "#fdca26"
            ],
            [
             1,
             "#f0f921"
            ]
           ]
          },
          "colorway": [
           "#636efa",
           "#EF553B",
           "#00cc96",
           "#ab63fa",
           "#FFA15A",
           "#19d3f3",
           "#FF6692",
           "#B6E880",
           "#FF97FF",
           "#FECB52"
          ],
          "font": {
           "color": "#2a3f5f"
          },
          "geo": {
           "bgcolor": "white",
           "lakecolor": "white",
           "landcolor": "#E5ECF6",
           "showlakes": true,
           "showland": true,
           "subunitcolor": "white"
          },
          "hoverlabel": {
           "align": "left"
          },
          "hovermode": "closest",
          "mapbox": {
           "style": "light"
          },
          "paper_bgcolor": "white",
          "plot_bgcolor": "#E5ECF6",
          "polar": {
           "angularaxis": {
            "gridcolor": "white",
            "linecolor": "white",
            "ticks": ""
           },
           "bgcolor": "#E5ECF6",
           "radialaxis": {
            "gridcolor": "white",
            "linecolor": "white",
            "ticks": ""
           }
          },
          "scene": {
           "xaxis": {
            "backgroundcolor": "#E5ECF6",
            "gridcolor": "white",
            "gridwidth": 2,
            "linecolor": "white",
            "showbackground": true,
            "ticks": "",
            "zerolinecolor": "white"
           },
           "yaxis": {
            "backgroundcolor": "#E5ECF6",
            "gridcolor": "white",
            "gridwidth": 2,
            "linecolor": "white",
            "showbackground": true,
            "ticks": "",
            "zerolinecolor": "white"
           },
           "zaxis": {
            "backgroundcolor": "#E5ECF6",
            "gridcolor": "white",
            "gridwidth": 2,
            "linecolor": "white",
            "showbackground": true,
            "ticks": "",
            "zerolinecolor": "white"
           }
          },
          "shapedefaults": {
           "line": {
            "color": "#2a3f5f"
           }
          },
          "ternary": {
           "aaxis": {
            "gridcolor": "white",
            "linecolor": "white",
            "ticks": ""
           },
           "baxis": {
            "gridcolor": "white",
            "linecolor": "white",
            "ticks": ""
           },
           "bgcolor": "#E5ECF6",
           "caxis": {
            "gridcolor": "white",
            "linecolor": "white",
            "ticks": ""
           }
          },
          "title": {
           "x": 0.05
          },
          "xaxis": {
           "automargin": true,
           "gridcolor": "white",
           "linecolor": "white",
           "ticks": "",
           "title": {
            "standoff": 15
           },
           "zerolinecolor": "white",
           "zerolinewidth": 2
          },
          "yaxis": {
           "automargin": true,
           "gridcolor": "white",
           "linecolor": "white",
           "ticks": "",
           "title": {
            "standoff": 15
           },
           "zerolinecolor": "white",
           "zerolinewidth": 2
          }
         }
        },
        "width": 800
       }
      },
      "text/html": [
       "<div>                            <div id=\"8f6b7e6f-e861-47e0-afcb-a6027e479354\" class=\"plotly-graph-div\" style=\"height:525px; width:800px;\"></div>            <script type=\"text/javascript\">                require([\"plotly\"], function(Plotly) {                    window.PLOTLYENV=window.PLOTLYENV || {};                                    if (document.getElementById(\"8f6b7e6f-e861-47e0-afcb-a6027e479354\")) {                    Plotly.newPlot(                        \"8f6b7e6f-e861-47e0-afcb-a6027e479354\",                        [{\"hovertemplate\": \"class=%{marker.color}<br>age=%{x}<br>spending_score=%{y}<br>annual_income=%{z}<extra></extra>\", \"legendgroup\": \"5\", \"marker\": {\"color\": [5, 5, 5, 5, 5, 5, 5, 5, 5, 5, 5, 5, 5, 5, 5, 5, 5, 5, 5, 5, 5], \"coloraxis\": \"coloraxis\", \"symbol\": \"circle\"}, \"mode\": \"markers\", \"name\": \"5\", \"scene\": \"scene\", \"showlegend\": true, \"type\": \"scatter3d\", \"x\": [19.0, 20.0, 31.0, 35.0, 64.0, 67.0, 58.0, 37.0, 35.0, 52.0, 35.0, 46.0, 54.0, 45.0, 40.0, 60.0, 53.0, 49.0, 42.0, 36.0, 49.0], \"y\": [39.0, 6.0, 40.0, 6.0, 3.0, 14.0, 15.0, 13.0, 35.0, 29.0, 35.0, 5.0, 14.0, 32.0, 31.0, 4.0, 4.0, 14.0, 17.0, 26.0, 28.0], \"z\": [15.0, 16.0, 17.0, 18.0, 19.0, 19.0, 20.0, 20.0, 21.0, 23.0, 24.0, 25.0, 28.0, 28.0, 29.0, 30.0, 33.0, 33.0, 34.0, 37.0, 39.0]}, {\"hovertemplate\": \"class=%{marker.color}<br>age=%{x}<br>spending_score=%{y}<br>annual_income=%{z}<extra></extra>\", \"legendgroup\": \"4\", \"marker\": {\"color\": [4, 4, 4, 4, 4, 4, 4, 4, 4, 4, 4, 4, 4, 4, 4, 4, 4, 4, 4, 4, 4, 4], \"coloraxis\": \"coloraxis\", \"symbol\": \"diamond\"}, \"mode\": \"markers\", \"name\": \"4\", \"scene\": \"scene\", \"showlegend\": true, \"type\": \"scatter3d\", \"x\": [21.0, 23.0, 22.0, 23.0, 30.0, 35.0, 24.0, 22.0, 20.0, 35.0, 25.0, 31.0, 29.0, 35.0, 23.0, 21.0, 18.0, 21.0, 30.0, 20.0, 24.0, 24.0], \"y\": [81.0, 77.0, 76.0, 94.0, 72.0, 99.0, 77.0, 79.0, 66.0, 98.0, 73.0, 73.0, 82.0, 61.0, 87.0, 73.0, 92.0, 81.0, 73.0, 75.0, 92.0, 65.0], \"z\": [15.0, 16.0, 17.0, 18.0, 19.0, 19.0, 20.0, 20.0, 21.0, 23.0, 24.0, 25.0, 28.0, 28.0, 29.0, 30.0, 33.0, 33.0, 34.0, 37.0, 38.0, 39.0]}, {\"hovertemplate\": \"class=%{marker.color}<br>age=%{x}<br>spending_score=%{y}<br>annual_income=%{z}<extra></extra>\", \"legendgroup\": \"3\", \"marker\": {\"color\": [3, 3, 3, 3, 3, 3, 3, 3, 3, 3, 3, 3, 3, 3, 3, 3, 3, 3, 3, 3, 3, 3, 3, 3, 3, 3, 3, 3, 3, 3, 3, 3, 3, 3, 3, 3, 3, 3, 3, 3, 3, 3, 3, 3, 3], \"coloraxis\": \"coloraxis\", \"symbol\": \"square\"}, \"mode\": \"markers\", \"name\": \"3\", \"scene\": \"scene\", \"showlegend\": true, \"type\": \"scatter3d\", \"x\": [65.0, 48.0, 50.0, 49.0, 59.0, 50.0, 47.0, 51.0, 69.0, 53.0, 70.0, 67.0, 54.0, 63.0, 43.0, 68.0, 70.0, 47.0, 60.0, 60.0, 59.0, 45.0, 49.0, 57.0, 67.0, 46.0, 48.0, 55.0, 50.0, 68.0, 48.0, 47.0, 48.0, 49.0, 67.0, 49.0, 66.0, 54.0, 68.0, 66.0, 65.0, 63.0, 49.0, 51.0, 50.0], \"y\": [35.0, 36.0, 55.0, 52.0, 60.0, 45.0, 41.0, 50.0, 46.0, 46.0, 56.0, 52.0, 59.0, 51.0, 50.0, 48.0, 55.0, 42.0, 49.0, 56.0, 47.0, 53.0, 42.0, 51.0, 41.0, 44.0, 46.0, 58.0, 46.0, 55.0, 49.0, 47.0, 42.0, 48.0, 59.0, 56.0, 50.0, 46.0, 43.0, 48.0, 52.0, 43.0, 59.0, 43.0, 57.0], \"z\": [38.0, 39.0, 40.0, 42.0, 43.0, 43.0, 43.0, 44.0, 44.0, 46.0, 46.0, 47.0, 47.0, 48.0, 48.0, 48.0, 49.0, 49.0, 50.0, 50.0, 54.0, 54.0, 54.0, 54.0, 54.0, 54.0, 54.0, 57.0, 58.0, 59.0, 60.0, 60.0, 61.0, 62.0, 62.0, 62.0, 63.0, 63.0, 63.0, 63.0, 63.0, 65.0, 65.0, 67.0, 67.0]}, {\"hovertemplate\": \"class=%{marker.color}<br>age=%{x}<br>spending_score=%{y}<br>annual_income=%{z}<extra></extra>\", \"legendgroup\": \"2\", \"marker\": {\"color\": [2, 2, 2, 2, 2, 2, 2, 2, 2, 2, 2, 2, 2, 2, 2, 2, 2, 2, 2, 2, 2, 2, 2, 2, 2, 2, 2, 2, 2, 2, 2, 2, 2, 2, 2, 2, 2, 2], \"coloraxis\": \"coloraxis\", \"symbol\": \"x\"}, \"mode\": \"markers\", \"name\": \"2\", \"scene\": \"scene\", \"showlegend\": true, \"type\": \"scatter3d\", \"x\": [31.0, 27.0, 29.0, 31.0, 33.0, 31.0, 27.0, 19.0, 18.0, 19.0, 32.0, 26.0, 40.0, 23.0, 38.0, 21.0, 22.0, 34.0, 18.0, 40.0, 32.0, 24.0, 27.0, 20.0, 23.0, 26.0, 21.0, 19.0, 38.0, 19.0, 18.0, 19.0, 27.0, 38.0, 40.0, 23.0, 25.0, 28.0], \"y\": [61.0, 47.0, 42.0, 42.0, 60.0, 54.0, 51.0, 55.0, 59.0, 59.0, 47.0, 54.0, 48.0, 52.0, 55.0, 57.0, 55.0, 60.0, 41.0, 40.0, 42.0, 52.0, 50.0, 49.0, 41.0, 55.0, 42.0, 54.0, 42.0, 46.0, 48.0, 50.0, 56.0, 40.0, 58.0, 29.0, 34.0, 40.0], \"z\": [39.0, 40.0, 40.0, 40.0, 42.0, 43.0, 46.0, 46.0, 48.0, 48.0, 48.0, 54.0, 54.0, 54.0, 54.0, 54.0, 57.0, 58.0, 59.0, 60.0, 60.0, 60.0, 60.0, 61.0, 62.0, 62.0, 62.0, 63.0, 64.0, 64.0, 65.0, 65.0, 67.0, 67.0, 69.0, 70.0, 72.0, 76.0]}, {\"hovertemplate\": \"class=%{marker.color}<br>age=%{x}<br>spending_score=%{y}<br>annual_income=%{z}<extra></extra>\", \"legendgroup\": \"1\", \"marker\": {\"color\": [1, 1, 1, 1, 1, 1, 1, 1, 1, 1, 1, 1, 1, 1, 1, 1, 1, 1, 1, 1, 1, 1, 1, 1, 1, 1, 1, 1, 1, 1, 1, 1, 1, 1, 1, 1, 1, 1, 1], \"coloraxis\": \"coloraxis\", \"symbol\": \"cross\"}, \"mode\": \"markers\", \"name\": \"1\", \"scene\": \"scene\", \"showlegend\": true, \"type\": \"scatter3d\", \"x\": [39.0, 31.0, 40.0, 38.0, 39.0, 31.0, 29.0, 32.0, 35.0, 32.0, 32.0, 28.0, 32.0, 34.0, 39.0, 38.0, 27.0, 30.0, 30.0, 29.0, 31.0, 36.0, 33.0, 32.0, 28.0, 36.0, 30.0, 27.0, 35.0, 32.0, 29.0, 30.0, 28.0, 36.0, 32.0, 38.0, 35.0, 32.0, 30.0], \"y\": [91.0, 77.0, 95.0, 75.0, 75.0, 71.0, 88.0, 73.0, 72.0, 93.0, 87.0, 97.0, 74.0, 90.0, 88.0, 76.0, 89.0, 78.0, 73.0, 83.0, 93.0, 75.0, 95.0, 63.0, 75.0, 92.0, 86.0, 69.0, 90.0, 86.0, 88.0, 97.0, 68.0, 85.0, 69.0, 91.0, 79.0, 74.0, 83.0], \"z\": [69.0, 70.0, 71.0, 71.0, 71.0, 72.0, 73.0, 73.0, 74.0, 75.0, 76.0, 77.0, 77.0, 78.0, 78.0, 78.0, 78.0, 78.0, 78.0, 79.0, 81.0, 85.0, 86.0, 87.0, 87.0, 87.0, 88.0, 88.0, 93.0, 97.0, 98.0, 99.0, 101.0, 103.0, 103.0, 113.0, 120.0, 126.0, 137.0]}, {\"hovertemplate\": \"class=%{marker.color}<br>age=%{x}<br>spending_score=%{y}<br>annual_income=%{z}<extra></extra>\", \"legendgroup\": \"0\", \"marker\": {\"color\": [0, 0, 0, 0, 0, 0, 0, 0, 0, 0, 0, 0, 0, 0, 0, 0, 0, 0, 0, 0, 0, 0, 0, 0, 0, 0, 0, 0, 0, 0, 0, 0, 0, 0, 0], \"coloraxis\": \"coloraxis\", \"symbol\": \"circle\"}, \"mode\": \"markers\", \"name\": \"0\", \"scene\": \"scene\", \"showlegend\": true, \"type\": \"scatter3d\", \"x\": [43.0, 59.0, 47.0, 20.0, 44.0, 19.0, 57.0, 25.0, 48.0, 34.0, 43.0, 44.0, 47.0, 37.0, 34.0, 56.0, 19.0, 50.0, 42.0, 36.0, 40.0, 36.0, 52.0, 58.0, 59.0, 37.0, 46.0, 41.0, 54.0, 41.0, 34.0, 33.0, 47.0, 45.0, 32.0], \"y\": [35.0, 11.0, 9.0, 5.0, 7.0, 10.0, 5.0, 12.0, 36.0, 22.0, 17.0, 20.0, 16.0, 1.0, 1.0, 35.0, 5.0, 26.0, 20.0, 27.0, 13.0, 10.0, 13.0, 15.0, 14.0, 32.0, 15.0, 39.0, 24.0, 17.0, 23.0, 8.0, 16.0, 28.0, 18.0], \"z\": [71.0, 71.0, 71.0, 73.0, 73.0, 74.0, 75.0, 77.0, 77.0, 78.0, 78.0, 78.0, 78.0, 78.0, 78.0, 79.0, 81.0, 85.0, 86.0, 87.0, 87.0, 87.0, 88.0, 88.0, 93.0, 97.0, 98.0, 99.0, 101.0, 103.0, 103.0, 113.0, 120.0, 126.0, 137.0]}],                        {\"coloraxis\": {\"colorbar\": {\"title\": {\"text\": \"class\"}}, \"colorscale\": [[0.0, \"#0d0887\"], [0.1111111111111111, \"#46039f\"], [0.2222222222222222, \"#7201a8\"], [0.3333333333333333, \"#9c179e\"], [0.4444444444444444, \"#bd3786\"], [0.5555555555555556, \"#d8576b\"], [0.6666666666666666, \"#ed7953\"], [0.7777777777777778, \"#fb9f3a\"], [0.8888888888888888, \"#fdca26\"], [1.0, \"#f0f921\"]]}, \"legend\": {\"title\": {\"text\": \"class\"}, \"tracegroupgap\": 0, \"x\": 0, \"y\": 1}, \"margin\": {\"t\": 60}, \"scene\": {\"domain\": {\"x\": [0.0, 1.0], \"y\": [0.0, 1.0]}, \"xaxis\": {\"title\": {\"text\": \"age\"}}, \"yaxis\": {\"title\": {\"text\": \"spending_score\"}}, \"zaxis\": {\"title\": {\"text\": \"annual_income\"}}}, \"template\": {\"data\": {\"bar\": [{\"error_x\": {\"color\": \"#2a3f5f\"}, \"error_y\": {\"color\": \"#2a3f5f\"}, \"marker\": {\"line\": {\"color\": \"#E5ECF6\", \"width\": 0.5}}, \"type\": \"bar\"}], \"barpolar\": [{\"marker\": {\"line\": {\"color\": \"#E5ECF6\", \"width\": 0.5}}, \"type\": \"barpolar\"}], \"carpet\": [{\"aaxis\": {\"endlinecolor\": \"#2a3f5f\", \"gridcolor\": \"white\", \"linecolor\": \"white\", \"minorgridcolor\": \"white\", \"startlinecolor\": \"#2a3f5f\"}, \"baxis\": {\"endlinecolor\": \"#2a3f5f\", \"gridcolor\": \"white\", \"linecolor\": \"white\", \"minorgridcolor\": \"white\", \"startlinecolor\": \"#2a3f5f\"}, \"type\": \"carpet\"}], \"choropleth\": [{\"colorbar\": {\"outlinewidth\": 0, \"ticks\": \"\"}, \"type\": \"choropleth\"}], \"contour\": [{\"colorbar\": {\"outlinewidth\": 0, \"ticks\": \"\"}, \"colorscale\": [[0.0, \"#0d0887\"], [0.1111111111111111, \"#46039f\"], [0.2222222222222222, \"#7201a8\"], [0.3333333333333333, \"#9c179e\"], [0.4444444444444444, \"#bd3786\"], [0.5555555555555556, \"#d8576b\"], [0.6666666666666666, \"#ed7953\"], [0.7777777777777778, \"#fb9f3a\"], [0.8888888888888888, \"#fdca26\"], [1.0, \"#f0f921\"]], \"type\": \"contour\"}], \"contourcarpet\": [{\"colorbar\": {\"outlinewidth\": 0, \"ticks\": \"\"}, \"type\": \"contourcarpet\"}], \"heatmap\": [{\"colorbar\": {\"outlinewidth\": 0, \"ticks\": \"\"}, \"colorscale\": [[0.0, \"#0d0887\"], [0.1111111111111111, \"#46039f\"], [0.2222222222222222, \"#7201a8\"], [0.3333333333333333, \"#9c179e\"], [0.4444444444444444, \"#bd3786\"], [0.5555555555555556, \"#d8576b\"], [0.6666666666666666, \"#ed7953\"], [0.7777777777777778, \"#fb9f3a\"], [0.8888888888888888, \"#fdca26\"], [1.0, \"#f0f921\"]], \"type\": \"heatmap\"}], \"heatmapgl\": [{\"colorbar\": {\"outlinewidth\": 0, \"ticks\": \"\"}, \"colorscale\": [[0.0, \"#0d0887\"], [0.1111111111111111, \"#46039f\"], [0.2222222222222222, \"#7201a8\"], [0.3333333333333333, \"#9c179e\"], [0.4444444444444444, \"#bd3786\"], [0.5555555555555556, \"#d8576b\"], [0.6666666666666666, \"#ed7953\"], [0.7777777777777778, \"#fb9f3a\"], [0.8888888888888888, \"#fdca26\"], [1.0, \"#f0f921\"]], \"type\": \"heatmapgl\"}], \"histogram\": [{\"marker\": {\"colorbar\": {\"outlinewidth\": 0, \"ticks\": \"\"}}, \"type\": \"histogram\"}], \"histogram2d\": [{\"colorbar\": {\"outlinewidth\": 0, \"ticks\": \"\"}, \"colorscale\": [[0.0, \"#0d0887\"], [0.1111111111111111, \"#46039f\"], [0.2222222222222222, \"#7201a8\"], [0.3333333333333333, \"#9c179e\"], [0.4444444444444444, \"#bd3786\"], [0.5555555555555556, \"#d8576b\"], [0.6666666666666666, \"#ed7953\"], [0.7777777777777778, \"#fb9f3a\"], [0.8888888888888888, \"#fdca26\"], [1.0, \"#f0f921\"]], \"type\": \"histogram2d\"}], \"histogram2dcontour\": [{\"colorbar\": {\"outlinewidth\": 0, \"ticks\": \"\"}, \"colorscale\": [[0.0, \"#0d0887\"], [0.1111111111111111, \"#46039f\"], [0.2222222222222222, \"#7201a8\"], [0.3333333333333333, \"#9c179e\"], [0.4444444444444444, \"#bd3786\"], [0.5555555555555556, \"#d8576b\"], [0.6666666666666666, \"#ed7953\"], [0.7777777777777778, \"#fb9f3a\"], [0.8888888888888888, \"#fdca26\"], [1.0, \"#f0f921\"]], \"type\": \"histogram2dcontour\"}], \"mesh3d\": [{\"colorbar\": {\"outlinewidth\": 0, \"ticks\": \"\"}, \"type\": \"mesh3d\"}], \"parcoords\": [{\"line\": {\"colorbar\": {\"outlinewidth\": 0, \"ticks\": \"\"}}, \"type\": \"parcoords\"}], \"pie\": [{\"automargin\": true, \"type\": \"pie\"}], \"scatter\": [{\"marker\": {\"colorbar\": {\"outlinewidth\": 0, \"ticks\": \"\"}}, \"type\": \"scatter\"}], \"scatter3d\": [{\"line\": {\"colorbar\": {\"outlinewidth\": 0, \"ticks\": \"\"}}, \"marker\": {\"colorbar\": {\"outlinewidth\": 0, \"ticks\": \"\"}}, \"type\": \"scatter3d\"}], \"scattercarpet\": [{\"marker\": {\"colorbar\": {\"outlinewidth\": 0, \"ticks\": \"\"}}, \"type\": \"scattercarpet\"}], \"scattergeo\": [{\"marker\": {\"colorbar\": {\"outlinewidth\": 0, \"ticks\": \"\"}}, \"type\": \"scattergeo\"}], \"scattergl\": [{\"marker\": {\"colorbar\": {\"outlinewidth\": 0, \"ticks\": \"\"}}, \"type\": \"scattergl\"}], \"scattermapbox\": [{\"marker\": {\"colorbar\": {\"outlinewidth\": 0, \"ticks\": \"\"}}, \"type\": \"scattermapbox\"}], \"scatterpolar\": [{\"marker\": {\"colorbar\": {\"outlinewidth\": 0, \"ticks\": \"\"}}, \"type\": \"scatterpolar\"}], \"scatterpolargl\": [{\"marker\": {\"colorbar\": {\"outlinewidth\": 0, \"ticks\": \"\"}}, \"type\": \"scatterpolargl\"}], \"scatterternary\": [{\"marker\": {\"colorbar\": {\"outlinewidth\": 0, \"ticks\": \"\"}}, \"type\": \"scatterternary\"}], \"surface\": [{\"colorbar\": {\"outlinewidth\": 0, \"ticks\": \"\"}, \"colorscale\": [[0.0, \"#0d0887\"], [0.1111111111111111, \"#46039f\"], [0.2222222222222222, \"#7201a8\"], [0.3333333333333333, \"#9c179e\"], [0.4444444444444444, \"#bd3786\"], [0.5555555555555556, \"#d8576b\"], [0.6666666666666666, \"#ed7953\"], [0.7777777777777778, \"#fb9f3a\"], [0.8888888888888888, \"#fdca26\"], [1.0, \"#f0f921\"]], \"type\": \"surface\"}], \"table\": [{\"cells\": {\"fill\": {\"color\": \"#EBF0F8\"}, \"line\": {\"color\": \"white\"}}, \"header\": {\"fill\": {\"color\": \"#C8D4E3\"}, \"line\": {\"color\": \"white\"}}, \"type\": \"table\"}]}, \"layout\": {\"annotationdefaults\": {\"arrowcolor\": \"#2a3f5f\", \"arrowhead\": 0, \"arrowwidth\": 1}, \"coloraxis\": {\"colorbar\": {\"outlinewidth\": 0, \"ticks\": \"\"}}, \"colorscale\": {\"diverging\": [[0, \"#8e0152\"], [0.1, \"#c51b7d\"], [0.2, \"#de77ae\"], [0.3, \"#f1b6da\"], [0.4, \"#fde0ef\"], [0.5, \"#f7f7f7\"], [0.6, \"#e6f5d0\"], [0.7, \"#b8e186\"], [0.8, \"#7fbc41\"], [0.9, \"#4d9221\"], [1, \"#276419\"]], \"sequential\": [[0.0, \"#0d0887\"], [0.1111111111111111, \"#46039f\"], [0.2222222222222222, \"#7201a8\"], [0.3333333333333333, \"#9c179e\"], [0.4444444444444444, \"#bd3786\"], [0.5555555555555556, \"#d8576b\"], [0.6666666666666666, \"#ed7953\"], [0.7777777777777778, \"#fb9f3a\"], [0.8888888888888888, \"#fdca26\"], [1.0, \"#f0f921\"]], \"sequentialminus\": [[0.0, \"#0d0887\"], [0.1111111111111111, \"#46039f\"], [0.2222222222222222, \"#7201a8\"], [0.3333333333333333, \"#9c179e\"], [0.4444444444444444, \"#bd3786\"], [0.5555555555555556, \"#d8576b\"], [0.6666666666666666, \"#ed7953\"], [0.7777777777777778, \"#fb9f3a\"], [0.8888888888888888, \"#fdca26\"], [1.0, \"#f0f921\"]]}, \"colorway\": [\"#636efa\", \"#EF553B\", \"#00cc96\", \"#ab63fa\", \"#FFA15A\", \"#19d3f3\", \"#FF6692\", \"#B6E880\", \"#FF97FF\", \"#FECB52\"], \"font\": {\"color\": \"#2a3f5f\"}, \"geo\": {\"bgcolor\": \"white\", \"lakecolor\": \"white\", \"landcolor\": \"#E5ECF6\", \"showlakes\": true, \"showland\": true, \"subunitcolor\": \"white\"}, \"hoverlabel\": {\"align\": \"left\"}, \"hovermode\": \"closest\", \"mapbox\": {\"style\": \"light\"}, \"paper_bgcolor\": \"white\", \"plot_bgcolor\": \"#E5ECF6\", \"polar\": {\"angularaxis\": {\"gridcolor\": \"white\", \"linecolor\": \"white\", \"ticks\": \"\"}, \"bgcolor\": \"#E5ECF6\", \"radialaxis\": {\"gridcolor\": \"white\", \"linecolor\": \"white\", \"ticks\": \"\"}}, \"scene\": {\"xaxis\": {\"backgroundcolor\": \"#E5ECF6\", \"gridcolor\": \"white\", \"gridwidth\": 2, \"linecolor\": \"white\", \"showbackground\": true, \"ticks\": \"\", \"zerolinecolor\": \"white\"}, \"yaxis\": {\"backgroundcolor\": \"#E5ECF6\", \"gridcolor\": \"white\", \"gridwidth\": 2, \"linecolor\": \"white\", \"showbackground\": true, \"ticks\": \"\", \"zerolinecolor\": \"white\"}, \"zaxis\": {\"backgroundcolor\": \"#E5ECF6\", \"gridcolor\": \"white\", \"gridwidth\": 2, \"linecolor\": \"white\", \"showbackground\": true, \"ticks\": \"\", \"zerolinecolor\": \"white\"}}, \"shapedefaults\": {\"line\": {\"color\": \"#2a3f5f\"}}, \"ternary\": {\"aaxis\": {\"gridcolor\": \"white\", \"linecolor\": \"white\", \"ticks\": \"\"}, \"baxis\": {\"gridcolor\": \"white\", \"linecolor\": \"white\", \"ticks\": \"\"}, \"bgcolor\": \"#E5ECF6\", \"caxis\": {\"gridcolor\": \"white\", \"linecolor\": \"white\", \"ticks\": \"\"}}, \"title\": {\"x\": 0.05}, \"xaxis\": {\"automargin\": true, \"gridcolor\": \"white\", \"linecolor\": \"white\", \"ticks\": \"\", \"title\": {\"standoff\": 15}, \"zerolinecolor\": \"white\", \"zerolinewidth\": 2}, \"yaxis\": {\"automargin\": true, \"gridcolor\": \"white\", \"linecolor\": \"white\", \"ticks\": \"\", \"title\": {\"standoff\": 15}, \"zerolinecolor\": \"white\", \"zerolinewidth\": 2}}}, \"width\": 800},                        {\"responsive\": true}                    ).then(function(){\n",
       "                            \n",
       "var gd = document.getElementById('8f6b7e6f-e861-47e0-afcb-a6027e479354');\n",
       "var x = new MutationObserver(function (mutations, observer) {{\n",
       "        var display = window.getComputedStyle(gd).display;\n",
       "        if (!display || display === 'none') {{\n",
       "            console.log([gd, 'removed!']);\n",
       "            Plotly.purge(gd);\n",
       "            observer.disconnect();\n",
       "        }}\n",
       "}});\n",
       "\n",
       "// Listen for the removal of the full notebook cells\n",
       "var notebookContainer = gd.closest('#notebook-container');\n",
       "if (notebookContainer) {{\n",
       "    x.observe(notebookContainer, {childList: true});\n",
       "}}\n",
       "\n",
       "// Listen for the clearing of the current output cell\n",
       "var outputEl = gd.closest('.output');\n",
       "if (outputEl) {{\n",
       "    x.observe(outputEl, {childList: true});\n",
       "}}\n",
       "\n",
       "                        })                };                });            </script>        </div>"
      ]
     },
     "metadata": {},
     "output_type": "display_data"
    }
   ],
   "source": [
    "# Plot the 3D-scatter with x=\"Annual Income\", y=\"Spending Score (1-100)\" and z=\"Age\"\n",
    "fig = px.scatter_3d(\n",
    "    six_clusters,\n",
    "    x=\"age\",\n",
    "    y=\"spending_score\",\n",
    "    z=\"annual_income\",\n",
    "    color=\"class\",\n",
    "    symbol=\"class\",\n",
    "    width=800,\n",
    ")\n",
    "fig.update_layout(legend=dict(x=0, y=1))\n",
    "fig.show()"
   ]
  },
  {
   "cell_type": "code",
   "execution_count": null,
   "metadata": {},
   "outputs": [],
   "source": []
  },
  {
   "cell_type": "code",
   "execution_count": null,
   "metadata": {},
   "outputs": [],
   "source": []
  },
  {
   "cell_type": "code",
   "execution_count": null,
   "metadata": {},
   "outputs": [],
   "source": []
  }
 ],
 "metadata": {
  "kernelspec": {
   "display_name": "PythonData",
   "language": "python",
   "name": "pythondata"
  },
  "language_info": {
   "codemirror_mode": {
    "name": "ipython",
    "version": 3
   },
   "file_extension": ".py",
   "mimetype": "text/x-python",
   "name": "python",
   "nbconvert_exporter": "python",
   "pygments_lexer": "ipython3",
   "version": "3.7.7"
  }
 },
 "nbformat": 4,
 "nbformat_minor": 4
}
